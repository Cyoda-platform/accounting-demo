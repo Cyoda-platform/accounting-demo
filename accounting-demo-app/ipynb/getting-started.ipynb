{
 "cells": [
  {
   "cell_type": "markdown",
   "metadata": {},
   "source": [
    "# Jupyter Notebook with Java\n",
    "\n",
    "Run the following code block using a Python kernel. It installs jbang and java kernel."
   ]
  },
  {
   "cell_type": "code",
   "metadata": {
    "jupyter": {
     "is_executing": true
    },
    "vscode": {
     "languageId": "java"
    }
   },
   "source": [
    "!pip3 install jbang # change to pip3 if pip command not found\n",
    "import jbang\n",
    "jbang.exec(\"trust add https://github.com/jupyter-java\")\n",
    "print(jbang.exec(\"install-kernel@jupyter-java --java 21 --enable-preview\").stdout)"
   ],
   "outputs": [],
   "execution_count": null
  },
  {
   "cell_type": "markdown",
   "metadata": {},
   "source": [
    "# Switch to Java kernel\n",
    "\n",
    "When the above have completed you should be able to switch to using a Java kernel (some call it runtime) in your Jupyter notebook environment.\n",
    "\n",
    "You might need to install the Jupyter python package in some environments - particular VSCode based IDE's might not have it directly available.\n",
    "\n"
   ]
  },
  {
   "cell_type": "code",
   "metadata": {
    "scrolled": true,
    "vscode": {
     "languageId": "java"
    }
   },
   "source": [
    "!pip install jupyter"
   ],
   "outputs": [],
   "execution_count": null
  },
  {
   "cell_type": "markdown",
   "metadata": {},
   "source": [
    "When installed try switch kernels. Might have to reload your IDE to have it detect the new available kernels."
   ]
  },
  {
   "cell_type": "markdown",
   "metadata": {},
   "source": [
    "# Test it works\n",
    "\n",
    "Run the following code using a Java kernel"
   ]
  },
  {
   "cell_type": "code",
   "metadata": {},
   "source": [
    "%classpath /workspaces/cyoda-client-example/accounting-demo-app/ipynb\n",
    "\n",
    "import com.example.accounting_demo.service.EntityService;\n"
   ],
   "outputs": [],
   "execution_count": null
  },
  {
   "cell_type": "code",
   "metadata": {},
   "source": [
    "import java.io.File;\n",
    "import java.io.IOException;\n",
    "\n",
    "public class RunSpringBootApp {\n",
    "\n",
    "    private static Process process;\n",
    "\n",
    "    public static void startApp() {\n",
    "        String jarPath = \"application.jar\";\n",
    "        File logFile = new File(\"application.log\"); // Log file\n",
    "        \n",
    "        // Use the full path to the Java 17 executable\n",
    "        String javaPath = \"/usr/local/sdkman/candidates/java/17.0.8-tem/bin/java\";\n",
    "        \n",
    "        // Update ProcessBuilder to use the specific Java version\n",
    "        ProcessBuilder processBuilder = new ProcessBuilder(javaPath, \"-jar\", jarPath);\n",
    "        \n",
    "        // Redirect output and errors to a file\n",
    "        processBuilder.redirectOutput(logFile);\n",
    "        processBuilder.redirectError(logFile);\n",
    "\n",
    "        try {\n",
    "            // Start the application\n",
    "            process = processBuilder.start();\n",
    "            System.out.println(\"Spring Boot application started in the background.\");\n",
    "        } catch (IOException e) {\n",
    "            e.printStackTrace();\n",
    "        }\n",
    "    }\n",
    "\n",
    "    public static void stopApp() {\n",
    "        if (process != null && process.isAlive()) {\n",
    "            process.destroy();\n",
    "            System.out.println(\"Spring Boot application stopped.\");\n",
    "        } else {\n",
    "            System.out.println(\"Application is not running.\");\n",
    "        }\n",
    "    }\n",
    "\n",
    "    public static void main(String[] args) {\n",
    "        startApp();\n",
    "        // To stop the app, run stopApp() in another cell\n",
    "    }\n",
    "}\n"
   ],
   "outputs": [],
   "execution_count": null
  },
  {
   "cell_type": "code",
   "metadata": {
    "scrolled": true
   },
   "source": [
    "RunSpringBootApp.startApp();"
   ],
   "outputs": [],
   "execution_count": null
  },
  {
   "cell_type": "code",
   "metadata": {},
   "source": [
    "RunSpringBootApp.stopApp();\n"
   ],
   "outputs": [],
   "execution_count": null
  },
  {
   "cell_type": "code",
   "metadata": {},
   "source": [
    "import java.io.BufferedReader;\n",
    "import java.io.File;\n",
    "import java.io.FileReader;\n",
    "import java.io.IOException;\n",
    "import java.util.LinkedList;\n",
    "\n",
    "public class LogReader {\n",
    "\n",
    "    public static void printLastNLogs(int n) {\n",
    "        File logFile = new File(\"application.log\");\n",
    "        LinkedList<String> lastNLines = new LinkedList<>();\n",
    "\n",
    "        try (BufferedReader reader = new BufferedReader(new FileReader(logFile))) {\n",
    "            String line;\n",
    "            while ((line = reader.readLine()) != null) {\n",
    "                lastNLines.add(line);\n",
    "                if (lastNLines.size() > n) {\n",
    "                    lastNLines.removeFirst();  // Maintain only the last N lines\n",
    "                }\n",
    "            }\n",
    "        } catch (IOException e) {\n",
    "            e.printStackTrace();\n",
    "        }\n",
    "\n",
    "        // Print the last N lines\n",
    "        for (String logLine : lastNLines) {\n",
    "            System.out.println(logLine);\n",
    "        }\n",
    "    }\n",
    "}\n"
   ],
   "outputs": [],
   "execution_count": null
  },
  {
   "cell_type": "code",
   "metadata": {},
   "source": [
    "LogReader.printLastNLogs(60);"
   ],
   "outputs": [],
   "execution_count": null
  },
  {
   "cell_type": "code",
   "metadata": {},
   "source": [
    "import java.lang.reflect.Method;\n",
    "import java.rmi.RemoteException;\n",
    "import java.rmi.registry.LocateRegistry;\n",
    "import java.rmi.registry.Registry;\n",
    "import java.lang.reflect.InvocationTargetException;\n",
    "\n",
    "\n",
    "public class EntityServiceClient {\n",
    "\n",
    "    private static EntityService getEntityService() throws Exception {\n",
    "        try {\n",
    "            Registry registry = LocateRegistry.getRegistry(\"localhost\", 1099);\n",
    "            return (EntityService) registry.lookup(\"EntityService\");\n",
    "        } catch (RemoteException e) {\n",
    "            throw new Exception(\"Failed to connect to RMI registry or lookup service\", e);\n",
    "        }\n",
    "    }\n",
    "\n",
    "    public static Object invokeMethod(String methodName, Object... args) throws Exception {\n",
    "        try {\n",
    "            EntityService service = getEntityService();\n",
    "            Class<?>[] argTypes = new Class[args.length];\n",
    "            for (int i = 0; i < args.length; i++) {\n",
    "                argTypes[i] = args[i].getClass();\n",
    "            }\n",
    "            Method method = service.getClass().getMethod(methodName, argTypes);\n",
    "            return method.invoke(service, args);\n",
    "        } catch (NoSuchMethodException e) {\n",
    "            throw new Exception(\"No such method found: \" + methodName, e);\n",
    "        } catch (IllegalAccessException e) {\n",
    "            throw new Exception(\"Illegal access to method: \" + methodName, e);\n",
    "        } catch (InvocationTargetException e) {\n",
    "            throw new Exception(\"Method invocation failed: \" + methodName, e);\n",
    "        } catch (RemoteException e) {\n",
    "            throw new Exception(\"Remote method invocation failed\", e);\n",
    "        }\n",
    "    }\n",
    "}\n",
    "\n"
   ],
   "outputs": [],
   "execution_count": null
  },
  {
   "cell_type": "code",
   "metadata": {},
   "source": [
    "String result = (String) EntityServiceClient.invokeMethod(\"demoMethod\");\n",
    "System.out.println(\"Result from EntityService: \" + result);\n"
   ],
   "outputs": [],
   "execution_count": null
  },
  {
   "cell_type": "code",
   "metadata": {},
   "source": "!source \"/usr/local/sdkman/bin/sdkman-init.sh\"",
   "outputs": [],
   "execution_count": null
  },
  {
   "metadata": {},
   "cell_type": "code",
   "source": "!bash -c \"source /usr/local/sdkman/bin/sdkman-init.sh && sdk install java 17.0.8-tem\"",
   "outputs": [],
   "execution_count": null
  },
  {
   "metadata": {},
   "cell_type": "code",
   "source": "!bash -c \"source /usr/local/sdkman/bin/sdkman-init.sh && sdk default java 17.0.8-tem\"",
   "outputs": [],
   "execution_count": null
  },
  {
   "metadata": {},
   "cell_type": "code",
   "outputs": [],
   "execution_count": null,
   "source": "!bash -c \"source /usr/local/sdkman/bin/sdkman-init.sh && sdk install java 17.0.8-tem && sdk default java 17.0.8-tem\"\n"
  }
 ],
 "metadata": {
  "kernelspec": {
   "display_name": "java (IJava/j!)",
   "language": "java",
   "name": "jbang-ijava"
  },
  "language_info": {
   "codemirror_mode": "java",
   "file_extension": ".jshell",
   "mimetype": "text/x-java-source",
   "name": "Java",
   "pygments_lexer": "java",
   "version": "21.0.4+7-LTS"
  }
 },
 "nbformat": 4,
 "nbformat_minor": 4
}
