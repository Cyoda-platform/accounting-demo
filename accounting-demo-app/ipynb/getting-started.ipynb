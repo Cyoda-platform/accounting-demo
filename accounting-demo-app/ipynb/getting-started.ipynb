{
 "cells": [
  {
   "cell_type": "markdown",
   "metadata": {},
   "source": [
    "# Jupyter Notebook with Java\n",
    "\n",
    "Run the following code block using a Python kernel. It installs jbang and java kernel."
   ]
  },
  {
   "cell_type": "code",
   "execution_count": null,
   "metadata": {
    "jupyter": {
     "source_hidden": true
    },
    "vscode": {
     "languageId": "java"
    }
   },
   "outputs": [],
   "source": [
    "// INSTALL JBANG AND JAVA KERNEL\n",
    "!pip3 install jbang\n",
    "import jbang\n",
    "jbang.exec(\"trust add https://github.com/jupyter-java\")\n",
    "print(jbang.exec(\"install-kernel@jupyter-java --java 21 --enable-preview\").stdout)"
   ]
  },
  {
   "cell_type": "code",
   "execution_count": null,
   "metadata": {
    "jupyter": {
     "source_hidden": true
    },
    "scrolled": true,
    "vscode": {
     "languageId": "java"
    }
   },
   "outputs": [],
   "source": [
    "// INSTALL JUPYTER\n",
    "!pip install jupyter"
   ]
  },
  {
   "cell_type": "code",
   "execution_count": null,
   "metadata": {
    "jupyter": {
     "source_hidden": true
    }
   },
   "outputs": [],
   "source": [
    "// INSTALL JAVA 17 AND SET AS DEFAULT\n",
    "!bash -c \"source /usr/local/sdkman/bin/sdkman-init.sh && yes | sdk install java 17.0.8-tem\""
   ]
  },
  {
   "cell_type": "markdown",
   "metadata": {},
   "source": [
    "# Switch to Java kernel\n",
    "\n",
    "When the above have completed you should be able to switch to using a Java kernel (some call it runtime) in your Jupyter notebook environment. Might have to reload your IDE to have it detect the new available kernels."
   ]
  },
  {
   "cell_type": "code",
   "execution_count": null,
   "metadata": {
    "ExecuteTime": {
     "end_time": "2024-09-01T21:54Z",
     "start_time": "2024-09-01T21:54Z"
    },
    "jupyter": {
     "source_hidden": true
    }
   },
   "outputs": [],
   "source": [
    "// ADD DEPENDENCIES\n",
    "%classpath .\n",
    "\n",
    "import com.example.accounting_demo.service.RmiEntityService;\n",
    "import com.example.accounting_demo.dto.SerializableHttpResponse;"
   ]
  },
  {
   "cell_type": "code",
   "execution_count": null,
   "metadata": {
    "ExecuteTime": {
     "end_time": "2024-09-01T21:54Z",
     "start_time": "2024-09-01T21:54Z"
    },
    "jupyter": {
     "source_hidden": true
    }
   },
   "outputs": [],
   "source": [
    "// CREATE LOGGER\n",
    "import java.io.BufferedReader;\n",
    "import java.io.File;\n",
    "import java.io.FileReader;\n",
    "import java.io.IOException;\n",
    "import java.util.LinkedList;\n",
    "\n",
    "public class LogReader {\n",
    "\n",
    "    private static long lastReadLine = 0;\n",
    "\n",
    "    public static void printNewLogs() {\n",
    "        File logFile = new File(\"application.log\");\n",
    "        long currentLine = 0;\n",
    "\n",
    "        try (BufferedReader reader = new BufferedReader(new FileReader(logFile))) {\n",
    "            String line;\n",
    "            while ((line = reader.readLine()) != null) {\n",
    "                currentLine++;\n",
    "                if (currentLine > lastReadLine) {\n",
    "                    System.out.println(line);\n",
    "                }\n",
    "            }\n",
    "            lastReadLine = currentLine;\n",
    "        } catch (IOException e) {\n",
    "            e.printStackTrace();\n",
    "        }\n",
    "    }\n",
    "\n",
    "    public static void printLastNLogs(int n) {\n",
    "        File logFile = new File(\"application.log\");\n",
    "        LinkedList<String> lastNLines = new LinkedList<>();\n",
    "\n",
    "        try (BufferedReader reader = new BufferedReader(new FileReader(logFile))) {\n",
    "            String line;\n",
    "            while ((line = reader.readLine()) != null) {\n",
    "                lastNLines.add(line);\n",
    "                if (lastNLines.size() > n) {\n",
    "                    lastNLines.removeFirst();\n",
    "                }\n",
    "            }\n",
    "        } catch (IOException e) {\n",
    "            e.printStackTrace();\n",
    "        }\n",
    "\n",
    "        for (String logLine : lastNLines) {\n",
    "            System.out.println(logLine);\n",
    "        }\n",
    "    }\n",
    "}\n"
   ]
  },
  {
   "cell_type": "code",
   "execution_count": null,
   "metadata": {
    "ExecuteTime": {
     "end_time": "2024-09-01T21:54Z",
     "start_time": "2024-09-01T21:54Z"
    },
    "jupyter": {
     "source_hidden": true
    }
   },
   "outputs": [],
   "source": [
    "// CREATE APP CONFIG AND LAUNCHER\n",
    "import java.io.File;\n",
    "import java.io.IOException;\n",
    "import java.nio.file.Files;\n",
    "import java.nio.file.Paths;\n",
    "import java.util.List;\n",
    "\n",
    "public class RunSpringBootApp {\n",
    "\n",
    "    private static Process process;\n",
    "\n",
    "    public static void startApp() {\n",
    "        String jarPath = \"application.jar\";\n",
    "        File logFile = new File(\"application.log\"); // Log file\n",
    "        ProcessBuilder processBuilder = new ProcessBuilder(\"java\", \"-jar\", jarPath);\n",
    "        \n",
    "        // Redirect output and errors to a file\n",
    "        processBuilder.redirectOutput(logFile);\n",
    "        processBuilder.redirectError(logFile);\n",
    "\n",
    "        try {\n",
    "            // Start the application\n",
    "            process = processBuilder.start();\n",
    "            System.out.println(\"Spring Boot application started in the background.\");\n",
    "        } catch (IOException e) {\n",
    "            e.printStackTrace();\n",
    "        }\n",
    "    }\n",
    "\n",
    "    public static void stopApp() {\n",
    "        if (process != null && process.isAlive()) {\n",
    "            process.destroy();\n",
    "            System.out.println(\"Spring Boot application stopped.\");\n",
    "        } else {\n",
    "            System.out.println(\"Application is not running.\");\n",
    "        }\n",
    "    }\n",
    "}\n"
   ]
  },
  {
   "cell_type": "code",
   "execution_count": null,
   "metadata": {
    "ExecuteTime": {
     "end_time": "2024-09-01T21:54Z",
     "start_time": "2024-09-01T21:54Z"
    },
    "jupyter": {
     "source_hidden": true
    },
    "scrolled": true
   },
   "outputs": [],
   "source": [
    "// START THE APP\n",
    "RunSpringBootApp.startApp();"
   ]
  },
  {
   "cell_type": "code",
   "execution_count": null,
   "metadata": {
    "ExecuteTime": {
     "end_time": "2024-09-01T21:54Z",
     "start_time": "2024-09-01T21:54Z"
    },
    "jupyter": {
     "source_hidden": true
    },
    "scrolled": true
   },
   "outputs": [],
   "source": [
    "// VIEW NEW LOGS\n",
    "LogReader.printNewLogs();"
   ]
  },
  {
   "cell_type": "code",
   "execution_count": null,
   "metadata": {
    "ExecuteTime": {
     "end_time": "2024-09-01T21:54Z",
     "start_time": "2024-09-01T21:54Z"
    },
    "jupyter": {
     "source_hidden": true
    }
   },
   "outputs": [],
   "source": [
    "// CREATE RMI (Remote Method Invocation) CLIENT\n",
    "import java.lang.reflect.Method;\n",
    "import java.rmi.RemoteException;\n",
    "import java.rmi.registry.LocateRegistry;\n",
    "import java.rmi.registry.Registry;\n",
    "import java.lang.reflect.InvocationTargetException;\n",
    "\n",
    "public class RmiEntityServiceClient {\n",
    "\n",
    "    private static RmiEntityService getRmiEntityService() throws Exception {\n",
    "        try {\n",
    "            Registry registry = LocateRegistry.getRegistry(\"localhost\", 1099);\n",
    "            return (RmiEntityService) registry.lookup(\"RmiEntityService\");\n",
    "        } catch (RemoteException e) {\n",
    "            throw new Exception(\"Failed to connect to RMI registry or lookup service\", e);\n",
    "        }\n",
    "    }\n",
    "\n",
    "    public static SerializableHttpResponse invokeMethod(String methodName, Object... args) throws Exception {\n",
    "        try {\n",
    "            RmiEntityService service = getRmiEntityService();\n",
    "            Class<?>[] argTypes = new Class[args.length];\n",
    "            for (int i = 0; i < args.length; i++) {\n",
    "                argTypes[i] = args[i].getClass();\n",
    "            }\n",
    "            Method method = service.getClass().getMethod(methodName, argTypes);\n",
    "            SerializableHttpResponse response = (SerializableHttpResponse) method.invoke(service, args);\n",
    "            LogReader.printNewLogs();\n",
    "            System.out.println(\"Response code: \" + response.getStatusCode());\n",
    "            System.out.println(\"Response body: \" + response.getResponseBody());\n",
    "            return response;\n",
    "        } catch (NoSuchMethodException e) {\n",
    "            throw new Exception(\"No such method found: \" + methodName, e);\n",
    "        } catch (IllegalAccessException e) {\n",
    "            throw new Exception(\"Illegal access to method: \" + methodName, e);\n",
    "        } catch (InvocationTargetException e) {\n",
    "            throw new Exception(\"Method invocation failed: \" + methodName, e);\n",
    "        } catch (RemoteException e) {\n",
    "            throw new Exception(\"Remote method invocation failed\", e);\n",
    "        }\n",
    "    }\n",
    "}\n"
   ]
  },
  {
   "cell_type": "code",
   "execution_count": null,
   "metadata": {
    "jupyter": {
     "source_hidden": true
    }
   },
   "outputs": [],
   "source": [
    "// SET LOCAL VARIABLES (OPTION 1)\n",
    "String modelName = \"entity_test\";\n",
    "String modelVersion = \"1\";\n",
    "String entity = \"\"\"\n",
    "[{\n",
    "    \"fullName\": \"Peter Jackson\",\n",
    "    \"department\": \"Accounting\"\n",
    "},\n",
    " {\n",
    "    \"fullName\": \"Nick Lane\",\n",
    "    \"department\": \"Marketing\"\n",
    "}]   \n",
    "\"\"\";"
   ]
  },
  {
   "cell_type": "code",
   "execution_count": null,
   "metadata": {
    "jupyter": {
     "source_hidden": true
    }
   },
   "outputs": [],
   "source": [
    "// SET LOCAL VARIABLES (OPTION 2)\n",
    "String entity = \"\"\"\n",
    "{\n",
    "  \"employeeId\": \"7c24b516-57ba-11b2-884b-32c14073892a\",\n",
    "  \"destination\": \"San Juan\",\n",
    "  \"departureDate\": \"2024-09-01 11:55:16.479\",\n",
    "  \"expenseList\": [\n",
    "    {\n",
    "      \"description\": \"other\",\n",
    "      \"amount\": \"62.66\"\n",
    "    },\n",
    "    {\n",
    "      \"description\": \"transportation\",\n",
    "      \"amount\": \"27.65\"\n",
    "    }\n",
    "  ],\n",
    "  \"advancePayment\": \"75.50\",\n",
    "  \"amountPayable\": \"0.00\"\n",
    "}\n",
    "  \n",
    "\"\"\";\n",
    "String modelName = \"expense_report\";\n",
    "String modelVersion = \"1\";"
   ]
  },
  {
   "cell_type": "code",
   "execution_count": null,
   "metadata": {
    "ExecuteTime": {
     "end_time": "2024-09-01T21:55Z",
     "start_time": "2024-09-01T21:55Z"
    },
    "jupyter": {
     "source_hidden": true
    }
   },
   "outputs": [],
   "source": [
    "// SAVE ENTITY MODEL\n",
    "SerializableHttpResponse response = RmiEntityServiceClient.invokeMethod(\"saveEntityModel\", entity, modelName, modelVersion);"
   ]
  },
  {
   "cell_type": "code",
   "execution_count": null,
   "metadata": {
    "ExecuteTime": {
     "end_time": "2024-09-01T21:55Z",
     "start_time": "2024-09-01T21:55Z"
    },
    "jupyter": {
     "source_hidden": true
    }
   },
   "outputs": [],
   "source": [
    "// LOCK ENTITY MODEL\n",
    "RmiEntityServiceClient.invokeMethod(\"lockEntityModel\", modelName, modelVersion);"
   ]
  },
  {
   "cell_type": "code",
   "execution_count": null,
   "metadata": {
    "jupyter": {
     "source_hidden": true
    }
   },
   "outputs": [],
   "source": [
    "// DELETE MODEL\n",
    "RmiEntityServiceClient.invokeMethod(\"deleteEntityModel\", modelName, modelVersion);"
   ]
  },
  {
   "cell_type": "code",
   "execution_count": null,
   "metadata": {
    "jupyter": {
     "source_hidden": true
    }
   },
   "outputs": [],
   "source": [
    "// DELETE ALL ENTITIES BY MODEL\n",
    "RmiEntityServiceClient.invokeMethod(\"deleteAllEntitiesByModel\", modelName, modelVersion);"
   ]
  },
  {
   "cell_type": "code",
   "execution_count": null,
   "metadata": {
    "ExecuteTime": {
     "end_time": "2024-09-01T21:55Z",
     "start_time": "2024-09-01T21:55Z"
    },
    "jupyter": {
     "source_hidden": true
    }
   },
   "outputs": [],
   "source": [
    "// SAVE ENTITY(S)\n",
    "SerializableHttpResponse response = RmiEntityServiceClient.invokeMethod(\"saveEntity\", entity, modelName, modelVersion);"
   ]
  },
  {
   "cell_type": "code",
   "execution_count": null,
   "metadata": {
    "ExecuteTime": {
     "end_time": "2024-09-01T21:55Z",
     "start_time": "2024-09-01T21:55Z"
    },
    "jupyter": {
     "source_hidden": true
    },
    "scrolled": true
   },
   "outputs": [],
   "source": [
    "// GET ALL ENTITIES BY MODEL\n",
    "SerializableHttpResponse response = RmiEntityServiceClient.invokeMethod(\"getAllEntitiesAsJson\", modelName, modelVersion);"
   ]
  },
  {
   "cell_type": "code",
   "execution_count": null,
   "metadata": {
    "jupyter": {
     "source_hidden": true
    }
   },
   "outputs": [],
   "source": [
    "// SET ENTITY ID\n",
    "UUID id = UUID.fromString(\"d5f17c30-67bb-11b2-8b42-4efc2d49e0d1\");"
   ]
  },
  {
   "cell_type": "code",
   "execution_count": null,
   "metadata": {
    "ExecuteTime": {
     "end_time": "2024-09-01T21:56Z",
     "start_time": "2024-09-01T21:56Z"
    },
    "jupyter": {
     "source_hidden": true
    }
   },
   "outputs": [],
   "source": [
    "// GET BY ID\n",
    "RmiEntityServiceClient.invokeMethod(\"getByIdAsJson\", id);\n"
   ]
  },
  {
   "cell_type": "code",
   "execution_count": null,
   "metadata": {
    "ExecuteTime": {
     "end_time": "2024-09-01T21:56Z",
     "start_time": "2024-09-01T21:56Z"
    },
    "jupyter": {
     "source_hidden": true
    }
   },
   "outputs": [],
   "source": [
    "// GET CURRENT STATE OF AN ENTITY\n",
    "RmiEntityServiceClient.invokeMethod(\"getCurrentState\", id);"
   ]
  },
  {
   "cell_type": "code",
   "execution_count": null,
   "metadata": {
    "ExecuteTime": {
     "end_time": "2024-09-01T21:57Z",
     "start_time": "2024-09-01T21:57Z"
    },
    "jupyter": {
     "source_hidden": true
    }
   },
   "outputs": [],
   "source": [
    "// GET AVAILABLE TRANSITIONS\n",
    "RmiEntityServiceClient.invokeMethod(\"getListTransitions\", id);"
   ]
  },
  {
   "cell_type": "code",
   "execution_count": null,
   "metadata": {
    "jupyter": {
     "source_hidden": true
    }
   },
   "outputs": [],
   "source": [
    "// LAUNCH TRANSITION\n",
    "RmiEntityServiceClient.invokeMethod(\"launchTransition\", id, \"DELETE\");"
   ]
  },
  {
   "cell_type": "code",
   "execution_count": null,
   "metadata": {
    "ExecuteTime": {
     "end_time": "2024-09-01T21:57Z",
     "start_time": "2024-09-01T21:57Z"
    },
    "jupyter": {
     "source_hidden": true
    }
   },
   "outputs": [],
   "source": [
    "// DELETE ENTITY (model, version, id)\n",
    "String idToDelete = id.toString();\n",
    "RmiEntityServiceClient.invokeMethod(\"deleteEntityById\", modelName, modelVersion, idToDelete);"
   ]
  },
  {
   "cell_type": "code",
   "execution_count": null,
   "metadata": {
    "ExecuteTime": {
     "end_time": "2024-09-01T21:52Z",
     "start_time": "2024-09-01T21:52Z"
    },
    "jupyter": {
     "source_hidden": true
    }
   },
   "outputs": [],
   "source": [
    "// VIEW LOG FILE (n last rows)\n",
    "LogReader.printLastNLogs(100)"
   ]
  },
  {
   "cell_type": "code",
   "execution_count": null,
   "metadata": {
    "ExecuteTime": {
     "end_time": "2024-09-01T21:58Z",
     "start_time": "2024-09-01T21:58Z"
    },
    "jupyter": {
     "source_hidden": true
    },
    "scrolled": true
   },
   "outputs": [],
   "source": [
    "// STOP THE APP\n",
    "RunSpringBootApp.stopApp();\n",
    "LogReader.printNewLogs();"
   ]
  },
  {
   "cell_type": "code",
   "execution_count": null,
   "metadata": {
    "jupyter": {
     "source_hidden": true
    }
   },
   "outputs": [],
   "source": []
  }
 ],
 "metadata": {
  "kernelspec": {
   "display_name": "java (IJava/j!)",
   "language": "java",
   "name": "jbang-ijava"
  },
  "language_info": {
   "codemirror_mode": "java",
   "file_extension": ".jshell",
   "mimetype": "text/x-java-source",
   "name": "Java",
   "pygments_lexer": "java",
   "version": "21.0.4+7-LTS"
  }
 },
 "nbformat": 4,
 "nbformat_minor": 4
}
