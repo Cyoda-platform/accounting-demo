{
 "cells": [
  {
   "cell_type": "markdown",
   "metadata": {},
   "source": [
    "# Jupyter Notebook with Java\n",
    "\n",
    "Run the following code block using a Python kernel. It installs jbang and java kernel."
   ]
  },
  {
   "cell_type": "code",
   "execution_count": null,
   "metadata": {
    "vscode": {
     "languageId": "java"
    }
   },
   "outputs": [],
   "source": [
    "!pip3 install jbang\n",
    "import jbang\n",
    "jbang.exec(\"trust add https://github.com/jupyter-java\")\n",
    "print(jbang.exec(\"install-kernel@jupyter-java --java 21 --enable-preview\").stdout)"
   ]
  },
  {
   "cell_type": "markdown",
   "metadata": {},
   "source": [
    "# Switch to Java kernel\n",
    "\n",
    "When the above have completed you should be able to switch to using a Java kernel (some call it runtime) in your Jupyter notebook environment.\n",
    "\n",
    "You might need to install the Jupyter python package in some environments - particular VSCode based IDE's might not have it directly available.\n",
    "\n"
   ]
  },
  {
   "cell_type": "code",
   "execution_count": null,
   "metadata": {
    "scrolled": true,
    "vscode": {
     "languageId": "java"
    }
   },
   "outputs": [],
   "source": [
    "!pip install jupyter"
   ]
  },
  {
   "cell_type": "markdown",
   "metadata": {},
   "source": [
    "When installed try switch kernels. Might have to reload your IDE to have it detect the new available kernels."
   ]
  },
  {
   "cell_type": "markdown",
   "metadata": {},
   "source": [
    "# Test it works\n",
    "\n",
    "Run the following code using a Java kernel"
   ]
  },
  {
   "cell_type": "code",
   "execution_count": 1,
   "metadata": {
    "ExecuteTime": {
     "end_time": "2024-09-01T21:54Z",
     "start_time": "2024-09-01T21:54Z"
    }
   },
   "outputs": [],
   "source": [
    "// ADD DEPENDENCIES\n",
    "%classpath /workspaces/cyoda-client-example/accounting-demo-app/ipynb\n",
    "\n",
    "import com.example.accounting_demo.service.RmiEntityService;\n",
    "import com.example.accounting_demo.dto.SerializableHttpResponse;"
   ]
  },
  {
   "cell_type": "code",
   "execution_count": 29,
   "metadata": {
    "ExecuteTime": {
     "end_time": "2024-09-01T21:54Z",
     "start_time": "2024-09-01T21:54Z"
    }
   },
   "outputs": [],
   "source": [
    "// CREATE APP CONFIG AND LAUNCHER\n",
    "import java.io.File;\n",
    "import java.io.IOException;\n",
    "import java.nio.file.Files;\n",
    "import java.nio.file.Paths;\n",
    "import java.util.List;\n",
    "\n",
    "public class RunSpringBootApp {\n",
    "\n",
    "    private static Process process;\n",
    "\n",
    "    public static void startApp() {\n",
    "        String jarPath = \"application.jar\";\n",
    "        File logFile = new File(\"application.log\"); // Log file\n",
    "        ProcessBuilder processBuilder = new ProcessBuilder(\"java\", \"-jar\", jarPath);\n",
    "        \n",
    "        // Redirect output and errors to a file\n",
    "        processBuilder.redirectOutput(logFile);\n",
    "        processBuilder.redirectError(logFile);\n",
    "\n",
    "        try {\n",
    "            // Start the application\n",
    "            process = processBuilder.start();\n",
    "            System.out.println(\"Spring Boot application started in the background.\");\n",
    "        } catch (IOException e) {\n",
    "            e.printStackTrace();\n",
    "        }\n",
    "    }\n",
    "\n",
    "    public static void stopApp() {\n",
    "        if (process != null && process.isAlive()) {\n",
    "            process.destroy();\n",
    "            System.out.println(\"Spring Boot application stopped.\");\n",
    "        } else {\n",
    "            System.out.println(\"Application is not running.\");\n",
    "        }\n",
    "    }\n",
    "}\n"
   ]
  },
  {
   "cell_type": "code",
   "execution_count": 30,
   "metadata": {
    "ExecuteTime": {
     "end_time": "2024-09-01T21:54Z",
     "start_time": "2024-09-01T21:54Z"
    },
    "scrolled": true
   },
   "outputs": [
    {
     "name": "stdout",
     "output_type": "stream",
     "text": [
      "Spring Boot application started in the background.\n"
     ]
    }
   ],
   "source": [
    "// START THE APP\n",
    "RunSpringBootApp.startApp();"
   ]
  },
  {
   "cell_type": "code",
   "execution_count": 33,
   "metadata": {
    "ExecuteTime": {
     "end_time": "2024-09-01T21:58Z",
     "start_time": "2024-09-01T21:58Z"
    }
   },
   "outputs": [
    {
     "name": "stdout",
     "output_type": "stream",
     "text": [
      "Spring Boot application stopped.\n"
     ]
    }
   ],
   "source": [
    "// STOP THE APP\n",
    "RunSpringBootApp.stopApp();"
   ]
  },
  {
   "cell_type": "code",
   "execution_count": 31,
   "metadata": {
    "ExecuteTime": {
     "end_time": "2024-09-01T21:54Z",
     "start_time": "2024-09-01T21:54Z"
    }
   },
   "outputs": [],
   "source": [
    "// CREATE LOGGER\n",
    "import java.io.BufferedReader;\n",
    "import java.io.File;\n",
    "import java.io.FileReader;\n",
    "import java.io.IOException;\n",
    "import java.util.LinkedList;\n",
    "\n",
    "public class LogReader {\n",
    "\n",
    "    private static long lastReadLine = 0;\n",
    "\n",
    "    public static void printNewLogs() {\n",
    "        File logFile = new File(\"application.log\");\n",
    "        long currentLine = 0;\n",
    "\n",
    "        try (BufferedReader reader = new BufferedReader(new FileReader(logFile))) {\n",
    "            String line;\n",
    "            while ((line = reader.readLine()) != null) {\n",
    "                currentLine++;\n",
    "                if (currentLine > lastReadLine) {\n",
    "                    System.out.println(line);\n",
    "                }\n",
    "            }\n",
    "            lastReadLine = currentLine;\n",
    "        } catch (IOException e) {\n",
    "            e.printStackTrace();\n",
    "        }\n",
    "    }\n",
    "\n",
    "    public static void printLastNLogs(int n) {\n",
    "        File logFile = new File(\"application.log\");\n",
    "        LinkedList<String> lastNLines = new LinkedList<>();\n",
    "\n",
    "        try (BufferedReader reader = new BufferedReader(new FileReader(logFile))) {\n",
    "            String line;\n",
    "            while ((line = reader.readLine()) != null) {\n",
    "                lastNLines.add(line);\n",
    "                if (lastNLines.size() > n) {\n",
    "                    lastNLines.removeFirst();\n",
    "                }\n",
    "            }\n",
    "        } catch (IOException e) {\n",
    "            e.printStackTrace();\n",
    "        }\n",
    "\n",
    "        for (String logLine : lastNLines) {\n",
    "            System.out.println(logLine);\n",
    "        }\n",
    "    }\n",
    "}\n",
    "\n"
   ]
  },
  {
   "cell_type": "code",
   "execution_count": 32,
   "metadata": {
    "ExecuteTime": {
     "end_time": "2024-09-01T21:52Z",
     "start_time": "2024-09-01T21:52Z"
    }
   },
   "outputs": [
    {
     "name": "stdout",
     "output_type": "stream",
     "text": [
      "Standard Commons Logging discovery in action with spring-jcl: please remove commons-logging.jar from classpath in order to avoid potential conflicts\n",
      "\n",
      "  .   ____          _            __ _ _\n",
      " /\\\\ / ___'_ __ _ _(_)_ __  __ _ \\ \\ \\ \\\n",
      "( ( )\\___ | '_ | '_| | '_ \\/ _` | \\ \\ \\ \\\n",
      " \\\\/  ___)| |_)| | | | | || (_| |  ) ) ) )\n",
      "  '  |____| .__|_| |_|_| |_\\__, | / / / /\n",
      " =========|_|==============|___/=/_/_/_/\n",
      " :: Spring Boot ::                (v3.1.5)\n",
      "\n",
      "2024-09-02T11:41:18.739+03:00  INFO 15930 --- [           main] c.e.a.AccountingDemoApplication          : Starting AccountingDemoApplication v3.0.x-SNAPSHOT using Java 17.0.10 with PID 15930 (/home/slava/projects/demo-jupyternb/res/application.jar started by slava in /home/slava/projects/demo-jupyternb/res)\n",
      "2024-09-02T11:41:18.742+03:00  INFO 15930 --- [           main] c.e.a.AccountingDemoApplication          : No active profile set, falling back to 1 default profile: \"default\"\n",
      "2024-09-02T11:41:19.920+03:00  INFO 15930 --- [           main] o.s.b.w.embedded.tomcat.TomcatWebServer  : Tomcat initialized with port(s): 8080 (http)\n",
      "2024-09-02T11:41:19.932+03:00  INFO 15930 --- [           main] o.apache.catalina.core.StandardService   : Starting service [Tomcat]\n",
      "2024-09-02T11:41:19.932+03:00  INFO 15930 --- [           main] o.apache.catalina.core.StandardEngine    : Starting Servlet engine: [Apache Tomcat/10.1.15]\n",
      "2024-09-02T11:41:20.021+03:00  INFO 15930 --- [           main] o.a.c.c.C.[Tomcat].[localhost].[/]       : Initializing Spring embedded WebApplicationContext\n",
      "2024-09-02T11:41:20.023+03:00  INFO 15930 --- [           main] w.s.c.ServletWebServerApplicationContext : Root WebApplicationContext: initialization completed in 1208 ms\n",
      "Standard Commons Logging discovery in action with spring-jcl: please remove commons-logging.jar from classpath in order to avoid potential conflicts\n",
      "2024-09-02T11:41:21.116+03:00  INFO 15930 --- [           main] c.e.a.service.Authentication             : Authentication response code: 200\n",
      "2024-09-02T11:41:21.474+03:00  INFO 15930 --- [           main] c.e.a.p.CyodaCalculationMemberClient     : gRPC client initialized successfully with server address: grpc-cyoda-demo-app.kube.cyoda.org and port: 443\n",
      "2024-09-02T11:41:21.535+03:00  INFO 15930 --- [           main] o.s.remoting.rmi.RmiServiceExporter      : Looking for RMI registry at port '1099'\n",
      "2024-09-02T11:41:21.722+03:00  INFO 15930 --- [           main] o.s.remoting.rmi.RmiServiceExporter      : Could not detect RMI registry - creating new one\n",
      "2024-09-02T11:41:21.733+03:00  INFO 15930 --- [           main] o.s.remoting.rmi.RmiServiceExporter      : Binding service 'RmiEntityService' to RMI registry: RegistryImpl[UnicastServerRef [liveRef: [endpoint:[192.168.0.105:1099](local),objID:[0:0:0, 0]]]]\n",
      "2024-09-02T11:41:22.041+03:00  INFO 15930 --- [           main] o.s.b.w.embedded.tomcat.TomcatWebServer  : Tomcat started on port(s): 8080 (http) with context path ''\n",
      "2024-09-02T11:41:22.073+03:00  INFO 15930 --- [           main] c.e.a.p.CyodaCalculationMemberClient     : Started streaming events from gRPC server\n",
      "2024-09-02T11:41:22.189+03:00  INFO 15930 --- [           main] c.e.a.p.CyodaCalculationMemberClient     : << Sending event: success: true\n",
      "\n",
      "2024-09-02T11:41:22.197+03:00  INFO 15930 --- [           main] c.e.a.AccountingDemoApplication          : Started AccountingDemoApplication in 3.885 seconds (process running for 4.416)\n",
      "2024-09-02T11:41:22.906+03:00  INFO 15930 --- [ault-executor-0] c.e.a.p.CyodaCalculationMemberClient     : << Received event: \n",
      "{\n",
      "  \"memberId\" : \"8d8717e3-c76e-4fc0-adf1-c755fcdf0e5e\",\n",
      "  \"owner\" : \"PLAY\",\n",
      "  \"success\" : true,\n",
      "  \"id\" : \"e0c87694-3c57-44d6-833e-a3955a9f7e8e\"\n",
      "}\n",
      "2024-09-02T11:41:22.907+03:00  INFO 15930 --- [ault-executor-0] c.e.a.p.CyodaCalculationMemberClient     : Unhandled event type: CalculationMemberGreetEvent\n"
     ]
    }
   ],
   "source": [
    "// VIEW LOG FILE (n last rows)\n",
    "LogReader.printLastNLogs(60)"
   ]
  },
  {
   "cell_type": "code",
   "execution_count": 6,
   "metadata": {
    "ExecuteTime": {
     "end_time": "2024-09-01T21:54Z",
     "start_time": "2024-09-01T21:54Z"
    }
   },
   "outputs": [],
   "source": [
    "// CREATE RMI (Remote Method Invocation) CLIENT\n",
    "import java.lang.reflect.Method;\n",
    "import java.rmi.RemoteException;\n",
    "import java.rmi.registry.LocateRegistry;\n",
    "import java.rmi.registry.Registry;\n",
    "import java.lang.reflect.InvocationTargetException;\n",
    "\n",
    "public class RmiEntityServiceClient {\n",
    "\n",
    "    private static RmiEntityService getRmiEntityService() throws Exception {\n",
    "        try {\n",
    "            Registry registry = LocateRegistry.getRegistry(\"localhost\", 1099);\n",
    "            return (RmiEntityService) registry.lookup(\"RmiEntityService\");\n",
    "        } catch (RemoteException e) {\n",
    "            throw new Exception(\"Failed to connect to RMI registry or lookup service\", e);\n",
    "        }\n",
    "    }\n",
    "\n",
    "    public static SerializableHttpResponse invokeMethod(String methodName, Object... args) throws Exception {\n",
    "        try {\n",
    "            RmiEntityService service = getRmiEntityService();\n",
    "            Class<?>[] argTypes = new Class[args.length];\n",
    "            for (int i = 0; i < args.length; i++) {\n",
    "                argTypes[i] = args[i].getClass();\n",
    "            }\n",
    "            Method method = service.getClass().getMethod(methodName, argTypes);\n",
    "            SerializableHttpResponse response = (SerializableHttpResponse) method.invoke(service, args);\n",
    "            LogReader.printNewLogs();\n",
    "            System.out.println(\"Response code: \" + response.getStatusCode());\n",
    "            System.out.println(\"Response body: \" + response.getResponseBody());\n",
    "            return response;\n",
    "        } catch (NoSuchMethodException e) {\n",
    "            throw new Exception(\"No such method found: \" + methodName, e);\n",
    "        } catch (IllegalAccessException e) {\n",
    "            throw new Exception(\"Illegal access to method: \" + methodName, e);\n",
    "        } catch (InvocationTargetException e) {\n",
    "            throw new Exception(\"Method invocation failed: \" + methodName, e);\n",
    "        } catch (RemoteException e) {\n",
    "            throw new Exception(\"Remote method invocation failed\", e);\n",
    "        }\n",
    "    }\n",
    "}\n"
   ]
  },
  {
   "cell_type": "code",
   "execution_count": null,
   "metadata": {},
   "outputs": [],
   "source": [
    "// SET LOCAL VARIABLES (OPTION 1)\n",
    "String modelName = \"entity_test\";\n",
    "String modelVersion = \"1\";\n",
    "String entity = \"\"\"\n",
    "[{\n",
    "    \"fullName\": \"Peter Jackson\",\n",
    "    \"department\": \"Accounting\"\n",
    "},\n",
    " {\n",
    "    \"fullName\": \"Nick Lane\",\n",
    "    \"department\": \"Marketing\"\n",
    "}]   \n",
    "\"\"\";"
   ]
  },
  {
   "cell_type": "code",
   "execution_count": 26,
   "metadata": {},
   "outputs": [],
   "source": [
    "// SET LOCAL VARIABLES (OPTION 2)\n",
    "String entity = \"\"\"\n",
    "{\n",
    "  \"employeeId\": \"7c24b516-57ba-11b2-884b-32c14073892a\",\n",
    "  \"destination\": \"San Juan\",\n",
    "  \"departureDate\": \"2024-09-01 11:55:16.479\",\n",
    "  \"expenseList\": [\n",
    "    {\n",
    "      \"description\": \"other\",\n",
    "      \"amount\": \"62.66\"\n",
    "    },\n",
    "    {\n",
    "      \"description\": \"transportation\",\n",
    "      \"amount\": \"27.65\"\n",
    "    }\n",
    "  ],\n",
    "  \"advancePayment\": \"75.50\",\n",
    "  \"amountPayable\": \"0.00\"\n",
    "}\n",
    "  \n",
    "\"\"\";\n",
    "String modelName = \"expense_report\";\n",
    "String modelVersion = \"1\";"
   ]
  },
  {
   "cell_type": "code",
   "execution_count": 10,
   "metadata": {
    "ExecuteTime": {
     "end_time": "2024-09-01T21:55Z",
     "start_time": "2024-09-01T21:55Z"
    }
   },
   "outputs": [
    {
     "name": "stdout",
     "output_type": "stream",
     "text": [
      "2024-09-02T11:31:30.951+03:00  INFO 14950 --- [)-192.168.0.105] c.e.a.service.RmiEntityServiceImpl       : \"POST https://cyoda-demo-app.kube.cyoda.org/api/treeNode/model/import/JSON/SAMPLE_DATA/expense_report/2 HTTP/1.1\"\n",
      "Response code: 200\n",
      "Response body: \"c5072f04-6905-11ef-884b-32c14073892a\"\n"
     ]
    }
   ],
   "source": [
    "// SAVE ENTITY MODEL\n",
    "SerializableHttpResponse response = RmiEntityServiceClient.invokeMethod(\"saveEntityModel\", entity, modelName, modelVersion);"
   ]
  },
  {
   "cell_type": "code",
   "execution_count": 11,
   "metadata": {
    "ExecuteTime": {
     "end_time": "2024-09-01T21:55Z",
     "start_time": "2024-09-01T21:55Z"
    }
   },
   "outputs": [
    {
     "name": "stdout",
     "output_type": "stream",
     "text": [
      "2024-09-02T11:31:45.691+03:00  INFO 14950 --- [)-192.168.0.105] c.e.a.service.RmiEntityServiceImpl       : \"PUT https://cyoda-demo-app.kube.cyoda.org/api/treeNode/model/expense_report/2/lock HTTP/1.1\"\n",
      "Response code: 200\n",
      "Response body: \n"
     ]
    },
    {
     "data": {
      "text/plain": []
     },
     "execution_count": 11,
     "metadata": {},
     "output_type": "execute_result"
    }
   ],
   "source": [
    "// LOCK ENTITY MODEL\n",
    "RmiEntityServiceClient.invokeMethod(\"lockEntityModel\", modelName, modelVersion);"
   ]
  },
  {
   "cell_type": "code",
   "execution_count": 27,
   "metadata": {},
   "outputs": [
    {
     "name": "stdout",
     "output_type": "stream",
     "text": [
      "2024-09-02T11:39:18.997+03:00  INFO 14950 --- [)-192.168.0.105] c.e.a.service.RmiEntityServiceImpl       : \"DELETE https://cyoda-demo-app.kube.cyoda.org/api/treeNode/model/expense_report/1 HTTP/1.1\"\n",
      "Response code: 404\n",
      "Response body: {\"errorMessage\":\"cannot find entityName=expense_report, version=1\",\"timestamp\":1725266359301}\n"
     ]
    },
    {
     "data": {
      "text/plain": []
     },
     "execution_count": 27,
     "metadata": {},
     "output_type": "execute_result"
    }
   ],
   "source": [
    "// DELETE MODEL\n",
    "RmiEntityServiceClient.invokeMethod(\"deleteEntityModel\", modelName, modelVersion);"
   ]
  },
  {
   "cell_type": "code",
   "execution_count": 24,
   "metadata": {},
   "outputs": [
    {
     "name": "stdout",
     "output_type": "stream",
     "text": [
      "2024-09-02T11:38:49.483+03:00  INFO 14950 --- [)-192.168.0.105] c.e.a.service.RmiEntityServiceImpl       : \"DELETE https://cyoda-demo-app.kube.cyoda.org/api/entity/TREE/expense_report/2 HTTP/1.1\"\n",
      "Response code: 200\n",
      "Response body: [{\"entityModelClassId\":\"c5072f04-6905-11ef-884b-32c14073892a\",\"ids\":[\"7df9636c-57bc-11b2-884b-32c14073892a\"],\"deleteResult\":{\"numberOfEntitites\":1,\"numberOfEntititesRemoved\":1}}]\n"
     ]
    },
    {
     "data": {
      "text/plain": []
     },
     "execution_count": 24,
     "metadata": {},
     "output_type": "execute_result"
    }
   ],
   "source": [
    "// DELETE ALL ENTITIES BY MODEL\n",
    "RmiEntityServiceClient.invokeMethod(\"deleteAllEntitiesByModel\", modelName, modelVersion);"
   ]
  },
  {
   "cell_type": "code",
   "execution_count": 12,
   "metadata": {
    "ExecuteTime": {
     "end_time": "2024-09-01T21:55Z",
     "start_time": "2024-09-01T21:55Z"
    }
   },
   "outputs": [
    {
     "name": "stdout",
     "output_type": "stream",
     "text": [
      "2024-09-02T11:32:03.057+03:00  INFO 14950 --- [)-192.168.0.105] c.e.a.service.RmiEntityServiceImpl       : SAVE ENTITY REQUEST: \"POST https://cyoda-demo-app.kube.cyoda.org/api/entity/new/JSON/TREE/expense_report/2 HTTP/1.1\"\n",
      "Response code: 200\n",
      "Response body: [{\"transactionId\":\"d46a8b80-6905-11ef-884b-32c14073892a\",\"entityIds\":[\"7df9636c-57bc-11b2-884b-32c14073892a\"]}]\n"
     ]
    }
   ],
   "source": [
    "// SAVE ENTITY(S)\n",
    "SerializableHttpResponse response = RmiEntityServiceClient.invokeMethod(\"saveEntity\", entity, modelName, modelVersion);"
   ]
  },
  {
   "cell_type": "code",
   "execution_count": 13,
   "metadata": {
    "ExecuteTime": {
     "end_time": "2024-09-01T21:55Z",
     "start_time": "2024-09-01T21:55Z"
    },
    "scrolled": true
   },
   "outputs": [
    {
     "name": "stdout",
     "output_type": "stream",
     "text": [
      "2024-09-02T11:32:11.124+03:00  INFO 14950 --- [)-192.168.0.105] c.e.a.service.RmiEntityServiceImpl       : \"GET https://cyoda-demo-app.kube.cyoda.org/api/entity/TREE/expense_report/2?pageSize=100&pageNumber=1 HTTP/1.1\"\n",
      "Response code: 200\n",
      "Response body: [{\"id\":\"7df9636c-57bc-11b2-884b-32c14073892a\",\"tree\":{\"employeeId\":\"7c24b516-57ba-11b2-884b-32c14073892a\",\"destination\":\"San Juan\",\"departureDate\":\"2024-09-01 11:55:16.479\",\"expenseList\":[{\"description\":\"other\",\"amount\":\"62.66\"},{\"description\":\"transportation\",\"amount\":\"27.65\"}],\"advancePayment\":\"75.50\",\"amountPayable\":\"0.00\"}}]\n"
     ]
    }
   ],
   "source": [
    "// GET ALL ENTITIES BY MODEL\n",
    "SerializableHttpResponse response = RmiEntityServiceClient.invokeMethod(\"getAllEntitiesAsJson\", modelName, modelVersion);"
   ]
  },
  {
   "cell_type": "code",
   "execution_count": 14,
   "metadata": {},
   "outputs": [],
   "source": [
    "// SET ENTITY ID\n",
    "UUID id = UUID.fromString(\"7df9636c-57bc-11b2-884b-32c14073892a\");"
   ]
  },
  {
   "cell_type": "code",
   "execution_count": 15,
   "metadata": {
    "ExecuteTime": {
     "end_time": "2024-09-01T21:56Z",
     "start_time": "2024-09-01T21:56Z"
    }
   },
   "outputs": [
    {
     "name": "stdout",
     "output_type": "stream",
     "text": [
      "2024-09-02T11:32:36.428+03:00  INFO 14950 --- [)-192.168.0.105] c.e.a.service.RmiEntityServiceImpl       : \"GET https://cyoda-demo-app.kube.cyoda.org/api/entity/TREE/7df9636c-57bc-11b2-884b-32c14073892a HTTP/1.1\"\n",
      "Response code: 200\n",
      "Response body: {\"tree\":{\"employeeId\":\"7c24b516-57ba-11b2-884b-32c14073892a\",\"destination\":\"San Juan\",\"departureDate\":\"2024-09-01 11:55:16.479\",\"expenseList\":[{\"description\":\"other\",\"amount\":\"62.66\"},{\"description\":\"transportation\",\"amount\":\"27.65\"}],\"advancePayment\":\"75.50\",\"amountPayable\":\"0.00\"},\"meta\":{\"id\":\"7df9636c-57bc-11b2-884b-32c14073892a\",\"type\":\"TREE\",\"modelKey\":{\"legalEntityId\":\"CYODA\",\"modelName\":\"expense_report\",\"version\":2}}}\n"
     ]
    },
    {
     "data": {
      "text/plain": []
     },
     "execution_count": 15,
     "metadata": {},
     "output_type": "execute_result"
    }
   ],
   "source": [
    "// GET BY ID\n",
    "RmiEntityServiceClient.invokeMethod(\"getByIdAsJson\", id);\n"
   ]
  },
  {
   "cell_type": "code",
   "execution_count": 16,
   "metadata": {
    "ExecuteTime": {
     "end_time": "2024-09-01T21:56Z",
     "start_time": "2024-09-01T21:56Z"
    }
   },
   "outputs": [
    {
     "name": "stdout",
     "output_type": "stream",
     "text": [
      "2024-09-02T11:32:40.601+03:00  INFO 14950 --- [)-192.168.0.105] c.e.a.service.RmiEntityServiceImpl       : \"GET https://cyoda-demo-app.kube.cyoda.org/api/platform-api/entity-info/fetch/lazy?entityClass=com.cyoda.tdb.model.treenode.TreeNodeEntity&entityId=7df9636c-57bc-11b2-884b-32c14073892a&columnPath=state HTTP/1.1\"\n",
      "Response code: 200\n",
      "Response body: DRAFT\n"
     ]
    },
    {
     "data": {
      "text/plain": []
     },
     "execution_count": 16,
     "metadata": {},
     "output_type": "execute_result"
    }
   ],
   "source": [
    "// GET CURRENT STATE OF AN ENTITY\n",
    "RmiEntityServiceClient.invokeMethod(\"getCurrentState\", id);"
   ]
  },
  {
   "cell_type": "code",
   "execution_count": 17,
   "metadata": {
    "ExecuteTime": {
     "end_time": "2024-09-01T21:57Z",
     "start_time": "2024-09-01T21:57Z"
    }
   },
   "outputs": [
    {
     "name": "stdout",
     "output_type": "stream",
     "text": [
      "2024-09-02T11:32:44.065+03:00  INFO 14950 --- [)-192.168.0.105] c.e.a.service.RmiEntityServiceImpl       : \"GET https://cyoda-demo-app.kube.cyoda.org/api/platform-api/entity/fetch/transitions?entityId=7df9636c-57bc-11b2-884b-32c14073892a&entityClass=com.cyoda.tdb.model.treenode.TreeNodeEntity HTTP/1.1\"\n",
      "Response code: 200\n",
      "Response body: [DELETE, UPDATE, SUBMIT]\n"
     ]
    },
    {
     "data": {
      "text/plain": []
     },
     "execution_count": 17,
     "metadata": {},
     "output_type": "execute_result"
    }
   ],
   "source": [
    "// GET AVAILABLE TRANSITIONS\n",
    "RmiEntityServiceClient.invokeMethod(\"getListTransitions\", id);"
   ]
  },
  {
   "cell_type": "code",
   "execution_count": 21,
   "metadata": {},
   "outputs": [
    {
     "name": "stdout",
     "output_type": "stream",
     "text": [
      "2024-09-02T11:34:28.948+03:00  INFO 14950 --- [ault-executor-4] c.e.a.p.CyodaCalculationMemberClient     : E-MAIL RECEIVED: ER with id: 7df9636c-57bc-11b2-884b-32c14073892a is pending manager's approval\n",
      "2024-09-02T11:34:28.950+03:00  INFO 14950 --- [ault-executor-4] c.e.a.p.CyodaCalculationMemberClient     : << Sending event: success: true\n",
      "\n",
      "2024-09-02T11:34:29.054+03:00  INFO 14950 --- [ault-executor-4] c.e.a.p.CyodaCalculationMemberClient     : << Received event: \n",
      "{\n",
      "  \"success\" : true,\n",
      "  \"id\" : \"7e247b81-82bd-4538-9f88-e3ff132e8476\"\n",
      "}\n",
      "2024-09-02T11:34:29.059+03:00  INFO 14950 --- [ault-executor-4] c.e.a.p.CyodaCalculationMemberClient     : << Received event: \n",
      "{\n",
      "  \"requestId\" : \"b6a59228-aecd-4cff-968a-4cb92cfc1a56\",\n",
      "  \"entityId\" : \"7df9636c-57bc-11b2-884b-32c14073892a\",\n",
      "  \"processorId\" : \"0a185a88-5bae-11ef-8cfd-229844f0e704\",\n",
      "  \"processorName\" : \"calculateAmountPayable\",\n",
      "  \"transactionId\" : \"2a44d8d0-6906-11ef-884b-32c14073892a\",\n",
      "  \"payload\" : {\n",
      "    \"type\" : \"TREE\",\n",
      "    \"data\" : {\n",
      "      \"employeeId\" : \"7c24b516-57ba-11b2-884b-32c14073892a\",\n",
      "      \"destination\" : \"San Juan\",\n",
      "      \"departureDate\" : \"2024-09-01 11:55:16.479\",\n",
      "      \"expenseList\" : [ {\n",
      "        \"description\" : \"other\",\n",
      "        \"amount\" : \"62.66\"\n",
      "      }, {\n",
      "        \"description\" : \"transportation\",\n",
      "        \"amount\" : \"27.65\"\n",
      "      } ],\n",
      "      \"advancePayment\" : \"75.50\",\n",
      "      \"amountPayable\" : \"0.00\"\n",
      "    }\n",
      "  },\n",
      "  \"success\" : true,\n",
      "  \"id\" : \"b6a59228-aecd-4cff-968a-4cb92cfc1a56\"\n",
      "}\n",
      "2024-09-02T11:34:29.060+03:00  INFO 14950 --- [ault-executor-4] c.e.a.p.CyodaCalculationMemberClient     : Processing EntityProcessorCalculationRequest: calculateAmountPayable\n",
      "2024-09-02T11:34:29.077+03:00 ERROR 14950 --- [ault-executor-4] c.e.a.p.CyodaCalculationMemberClient     : Error processing event: id: \"46c31861-6356-2f5b-706a-b57973ed042a\"\n",
      "source: \"urn:cyoda:processor:externalized\"\n",
      "spec_version: \"1.0\"\n",
      "type: \"EntityProcessorCalculationRequest\"\n",
      "attributes {\n",
      "  key: \"datacontenttype\"\n",
      "  value {\n",
      "    ce_string: \"application/json\"\n",
      "  }\n",
      "}\n",
      "attributes {\n",
      "  key: \"time\"\n",
      "  value {\n",
      "    ce_timestamp {\n",
      "      seconds: 1725266069\n",
      "      nanos: 8608173\n",
      "    }\n",
      "  }\n",
      "}\n",
      "text_data: \"{\\\"requestId\\\":\\\"b6a59228-aecd-4cff-968a-4cb92cfc1a56\\\",\\\"entityId\\\":\\\"7df9636c-57bc-11b2-884b-32c14073892a\\\",\\\"processorId\\\":\\\"0a185a88-5bae-11ef-8cfd-229844f0e704\\\",\\\"processorName\\\":\\\"calculateAmountPayable\\\",\\\"transactionId\\\":\\\"2a44d8d0-6906-11ef-884b-32c14073892a\\\",\\\"payload\\\":{\\\"type\\\":\\\"TREE\\\",\\\"data\\\":{\\\"employeeId\\\":\\\"7c24b516-57ba-11b2-884b-32c14073892a\\\",\\\"destination\\\":\\\"San Juan\\\",\\\"departureDate\\\":\\\"2024-09-01 11:55:16.479\\\",\\\"expenseList\\\":[{\\\"description\\\":\\\"other\\\",\\\"amount\\\":\\\"62.66\\\"},{\\\"description\\\":\\\"transportation\\\",\\\"amount\\\":\\\"27.65\\\"}],\\\"advancePayment\\\":\\\"75.50\\\",\\\"amountPayable\\\":\\\"0.00\\\"}},\\\"success\\\":true,\\\"id\\\":\\\"b6a59228-aecd-4cff-968a-4cb92cfc1a56\\\"}\"\n",
      "\n",
      "\n",
      "com.fasterxml.jackson.databind.exc.InvalidFormatException: Cannot deserialize value of type `java.sql.Timestamp` from String \"2024-09-01 11:55:16.479\": not a valid representation (error: Failed to parse Date value '2024-09-01 11:55:16.479': Cannot parse date \"2024-09-01 11:55:16.479\": while it seems to fit format 'yyyy-MM-dd'T'HH:mm:ss.SSSX', parsing fails (leniency? null))\n",
      " at [Source: (String)\"{\"employeeId\":\"7c24b516-57ba-11b2-884b-32c14073892a\",\"destination\":\"San Juan\",\"departureDate\":\"2024-09-01 11:55:16.479\",\"expenseList\":[{\"description\":\"other\",\"amount\":\"62.66\"},{\"description\":\"transportation\",\"amount\":\"27.65\"}],\"advancePayment\":\"75.50\",\"amountPayable\":\"0.00\"}\"; line: 1, column: 95] (through reference chain: com.example.accounting_demo.model.ExpenseReport[\"departureDate\"])\n",
      "\tat com.fasterxml.jackson.databind.exc.InvalidFormatException.from(InvalidFormatException.java:67) ~[jackson-databind-2.15.3.jar!/:2.15.3]\n",
      "\tat com.fasterxml.jackson.databind.DeserializationContext.weirdStringException(DeserializationContext.java:2002) ~[jackson-databind-2.15.3.jar!/:2.15.3]\n",
      "\tat com.fasterxml.jackson.databind.DeserializationContext.handleWeirdStringValue(DeserializationContext.java:1230) ~[jackson-databind-2.15.3.jar!/:2.15.3]\n",
      "\tat com.fasterxml.jackson.databind.deser.std.StdDeserializer._parseDate(StdDeserializer.java:1362) ~[jackson-databind-2.15.3.jar!/:2.15.3]\n",
      "\tat com.fasterxml.jackson.databind.deser.std.StdDeserializer._parseDate(StdDeserializer.java:1304) ~[jackson-databind-2.15.3.jar!/:2.15.3]\n",
      "\tat com.fasterxml.jackson.databind.deser.std.DateDeserializers$DateBasedDeserializer._parseDate(DateDeserializers.java:201) ~[jackson-databind-2.15.3.jar!/:2.15.3]\n",
      "\tat com.fasterxml.jackson.databind.deser.std.DateDeserializers$TimestampDeserializer.deserialize(DateDeserializers.java:363) ~[jackson-databind-2.15.3.jar!/:2.15.3]\n",
      "\tat com.fasterxml.jackson.databind.deser.std.DateDeserializers$TimestampDeserializer.deserialize(DateDeserializers.java:343) ~[jackson-databind-2.15.3.jar!/:2.15.3]\n",
      "\tat com.fasterxml.jackson.databind.deser.impl.MethodProperty.deserializeAndSet(MethodProperty.java:129) ~[jackson-databind-2.15.3.jar!/:2.15.3]\n",
      "\tat com.fasterxml.jackson.databind.deser.BeanDeserializer.deserializeFromObject(BeanDeserializer.java:392) ~[jackson-databind-2.15.3.jar!/:2.15.3]\n",
      "\tat com.fasterxml.jackson.databind.deser.BeanDeserializer.deserialize(BeanDeserializer.java:185) ~[jackson-databind-2.15.3.jar!/:2.15.3]\n",
      "\tat com.fasterxml.jackson.databind.deser.DefaultDeserializationContext.readRootValue(DefaultDeserializationContext.java:323) ~[jackson-databind-2.15.3.jar!/:2.15.3]\n",
      "\tat com.fasterxml.jackson.databind.ObjectMapper._readMapAndClose(ObjectMapper.java:4825) ~[jackson-databind-2.15.3.jar!/:2.15.3]\n",
      "\tat com.fasterxml.jackson.databind.ObjectMapper.readValue(ObjectMapper.java:3772) ~[jackson-databind-2.15.3.jar!/:2.15.3]\n",
      "\tat com.fasterxml.jackson.databind.ObjectMapper.readValue(ObjectMapper.java:3740) ~[jackson-databind-2.15.3.jar!/:2.15.3]\n",
      "\tat com.example.accounting_demo.processor.CyodaCalculationMemberProcessor.calculateAmountPayable(CyodaCalculationMemberProcessor.java:83) ~[classes!/:3.0.x-SNAPSHOT]\n",
      "\tat com.example.accounting_demo.processor.CyodaCalculationMemberProcessor.calculate(CyodaCalculationMemberProcessor.java:60) ~[classes!/:3.0.x-SNAPSHOT]\n",
      "\tat com.example.accounting_demo.processor.CyodaCalculationMemberClient.handleCloudEvent(CyodaCalculationMemberClient.java:142) ~[classes!/:3.0.x-SNAPSHOT]\n",
      "\tat com.example.accounting_demo.processor.CyodaCalculationMemberClient$1.onNext(CyodaCalculationMemberClient.java:110) ~[classes!/:3.0.x-SNAPSHOT]\n",
      "\tat com.example.accounting_demo.processor.CyodaCalculationMemberClient$1.onNext(CyodaCalculationMemberClient.java:106) ~[classes!/:3.0.x-SNAPSHOT]\n",
      "\tat io.grpc.stub.ClientCalls$StreamObserverToCallListenerAdapter.onMessage(ClientCalls.java:468) ~[grpc-stub-1.62.2.jar!/:1.62.2]\n",
      "\tat io.grpc.internal.DelayedClientCall$DelayedListener.onMessage(DelayedClientCall.java:473) ~[grpc-core-1.62.2.jar!/:1.62.2]\n",
      "\tat io.grpc.internal.ClientCallImpl$ClientStreamListenerImpl$1MessagesAvailable.runInternal(ClientCallImpl.java:667) ~[grpc-core-1.62.2.jar!/:1.62.2]\n",
      "\tat io.grpc.internal.ClientCallImpl$ClientStreamListenerImpl$1MessagesAvailable.runInContext(ClientCallImpl.java:654) ~[grpc-core-1.62.2.jar!/:1.62.2]\n",
      "\tat io.grpc.internal.ContextRunnable.run(ContextRunnable.java:37) ~[grpc-core-1.62.2.jar!/:1.62.2]\n",
      "\tat io.grpc.internal.SerializingExecutor.run(SerializingExecutor.java:133) ~[grpc-core-1.62.2.jar!/:1.62.2]\n",
      "\tat java.base/java.util.concurrent.ThreadPoolExecutor.runWorker(ThreadPoolExecutor.java:1136) ~[na:na]\n",
      "\tat java.base/java.util.concurrent.ThreadPoolExecutor$Worker.run(ThreadPoolExecutor.java:635) ~[na:na]\n",
      "\tat java.base/java.lang.Thread.run(Thread.java:840) ~[na:na]\n",
      "\n",
      "2024-09-02T11:34:48.339+03:00  INFO 14950 --- [)-192.168.0.105] c.e.a.service.RmiEntityServiceImpl       : \"PUT https://cyoda-demo-app.kube.cyoda.org/api/platform-api/entity/transition?entityId=7df9636c-57bc-11b2-884b-32c14073892a&entityClass=com.cyoda.tdb.model.treenode.TreeNodeEntity&transitionName=APPROVE_BY_MANAGER HTTP/1.1\"\n",
      "Response code: 200\n",
      "Response body: [\"CREATE_PAYMENT\",\"PROCEED_WITHOUT_PAYMENT\"]\n"
     ]
    },
    {
     "data": {
      "text/plain": []
     },
     "execution_count": 21,
     "metadata": {},
     "output_type": "execute_result"
    }
   ],
   "source": [
    "// LAUNCH TRANSITION\n",
    "RmiEntityServiceClient.invokeMethod(\"launchTransition\", id, \"APPROVE_BY_MANAGER\");"
   ]
  },
  {
   "cell_type": "code",
   "execution_count": null,
   "metadata": {
    "ExecuteTime": {
     "end_time": "2024-09-01T21:57Z",
     "start_time": "2024-09-01T21:57Z"
    }
   },
   "outputs": [],
   "source": [
    "// DELETE ENTITY (model, version, id)\n",
    "String idToDelete = id.toString();\n",
    "RmiEntityServiceClient.invokeMethod(\"deleteEntityById\", modelName, modelVersion, idToDelete);"
   ]
  },
  {
   "cell_type": "code",
   "execution_count": 23,
   "metadata": {},
   "outputs": [],
   "source": [
    "// VIEW NEW LOGS\n",
    "LogReader.printNewLogs();"
   ]
  },
  {
   "cell_type": "code",
   "execution_count": null,
   "metadata": {},
   "outputs": [],
   "source": []
  }
 ],
 "metadata": {
  "kernelspec": {
   "display_name": "java (IJava/j!)",
   "language": "java",
   "name": "jbang-ijava"
  },
  "language_info": {
   "codemirror_mode": "java",
   "file_extension": ".jshell",
   "mimetype": "text/x-java-source",
   "name": "Java",
   "pygments_lexer": "java",
   "version": "21.0.4+7-LTS"
  }
 },
 "nbformat": 4,
 "nbformat_minor": 4
}
