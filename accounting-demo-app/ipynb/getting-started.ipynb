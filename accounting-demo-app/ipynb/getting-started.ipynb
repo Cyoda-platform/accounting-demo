{
 "cells": [
  {
   "cell_type": "markdown",
   "metadata": {},
   "source": [
    "# Jupyter Notebook with Java\n",
    "\n",
    "Run the following code block using a Python kernel. It installs jbang and java kernel."
   ]
  },
  {
   "cell_type": "code",
   "execution_count": null,
   "metadata": {
    "jupyter": {
     "is_executing": true
    },
    "vscode": {
     "languageId": "java"
    }
   },
   "outputs": [],
   "source": [
    "!pip3 install jbang # change to pip3 if pip command not found\n",
    "import jbang\n",
    "jbang.exec(\"trust add https://github.com/jupyter-java\")\n",
    "print(jbang.exec(\"install-kernel@jupyter-java --java 21 --enable-preview\").stdout)"
   ]
  },
  {
   "cell_type": "markdown",
   "metadata": {},
   "source": [
    "# Switch to Java kernel\n",
    "\n",
    "When the above have completed you should be able to switch to using a Java kernel (some call it runtime) in your Jupyter notebook environment.\n",
    "\n",
    "You might need to install the Jupyter python package in some environments - particular VSCode based IDE's might not have it directly available.\n",
    "\n"
   ]
  },
  {
   "cell_type": "code",
   "execution_count": null,
   "metadata": {
    "ExecuteTime": {
     "end_time": "2024-08-26T13:51Z",
     "start_time": "2024-08-26T13:51Z"
    },
    "scrolled": true,
    "vscode": {
     "languageId": "java"
    }
   },
   "outputs": [],
   "source": [
    "!pip install jupyter"
   ]
  },
  {
   "cell_type": "markdown",
   "metadata": {},
   "source": [
    "When installed try switch kernels. Might have to reload your IDE to have it detect the new available kernels."
   ]
  },
  {
   "cell_type": "markdown",
   "metadata": {},
   "source": [
    "# Test it works\n",
    "\n",
    "Run the following code using a Java kernel"
   ]
  },
  {
   "cell_type": "code",
   "execution_count": 1,
   "metadata": {},
   "outputs": [],
   "source": [
    "import java.io.File;\n",
    "import java.io.IOException;\n",
    "\n",
    "public class RunSpringBootApp {\n",
    "\n",
    "    private static Process process;\n",
    "\n",
    "    public static void startApp() {\n",
    "        String jarPath = \"application.jar\";\n",
    "        File logFile = new File(\"application.log\"); // Log file\n",
    "        ProcessBuilder processBuilder = new ProcessBuilder(\"java\", \"-jar\", jarPath);\n",
    "        \n",
    "        // Redirect of output and errors to a file\n",
    "        processBuilder.redirectOutput(logFile);\n",
    "        processBuilder.redirectError(logFile);\n",
    "\n",
    "        try {\n",
    "            process = processBuilder.start();\n",
    "            System.out.println(\"Spring Boot application started in the background.\");\n",
    "        } catch (IOException e) {\n",
    "            e.printStackTrace();\n",
    "        }\n",
    "    }\n",
    "\n",
    "    public static void stopApp() {\n",
    "        if (process != null && process.isAlive()) {\n",
    "            process.destroy();\n",
    "            System.out.println(\"Spring Boot application stopped.\");\n",
    "        } else {\n",
    "            System.out.println(\"Application is not running.\");\n",
    "        }\n",
    "    }\n",
    "\n",
    "    public static void main(String[] args) {\n",
    "        startApp();\n",
    "        // To stop the app run stopApp() in another cell\n",
    "    }\n",
    "}\n"
   ]
  },
  {
   "cell_type": "code",
   "execution_count": 2,
   "metadata": {
    "scrolled": true
   },
   "outputs": [
    {
     "name": "stdout",
     "output_type": "stream",
     "text": [
      "Spring Boot application started in the background.\n"
     ]
    }
   ],
   "source": [
    "RunSpringBootApp.startApp();"
   ]
  },
  {
   "cell_type": "code",
   "execution_count": 9,
   "metadata": {},
   "outputs": [
    {
     "name": "stdout",
     "output_type": "stream",
     "text": [
      "Spring Boot application stopped.\n"
     ]
    }
   ],
   "source": [
    "RunSpringBootApp.stopApp();\n"
   ]
  },
  {
   "cell_type": "code",
   "execution_count": 4,
   "metadata": {},
   "outputs": [],
   "source": [
    "import java.io.BufferedReader;\n",
    "import java.io.File;\n",
    "import java.io.FileReader;\n",
    "import java.io.IOException;\n",
    "import java.util.LinkedList;\n",
    "\n",
    "public class LogReader {\n",
    "\n",
    "    public static void printLastNLogs(int n) {\n",
    "        File logFile = new File(\"application.log\");\n",
    "        LinkedList<String> lastNLines = new LinkedList<>();\n",
    "\n",
    "        try (BufferedReader reader = new BufferedReader(new FileReader(logFile))) {\n",
    "            String line;\n",
    "            while ((line = reader.readLine()) != null) {\n",
    "                lastNLines.add(line);\n",
    "                if (lastNLines.size() > n) {\n",
    "                    lastNLines.removeFirst();  // Maintain only the last N lines\n",
    "                }\n",
    "            }\n",
    "        } catch (IOException e) {\n",
    "            e.printStackTrace();\n",
    "        }\n",
    "\n",
    "        // Print the last N lines\n",
    "        for (String logLine : lastNLines) {\n",
    "            System.out.println(logLine);\n",
    "        }\n",
    "    }\n",
    "}\n"
   ]
  },
  {
   "cell_type": "code",
   "execution_count": 5,
   "metadata": {},
   "outputs": [
    {
     "name": "stdout",
     "output_type": "stream",
     "text": [
      "\n",
      "  .   ____          _            __ _ _\n",
      " /\\\\ / ___'_ __ _ _(_)_ __  __ _ \\ \\ \\ \\\n",
      "( ( )\\___ | '_ | '_| | '_ \\/ _` | \\ \\ \\ \\\n",
      " \\\\/  ___)| |_)| | | | | || (_| |  ) ) ) )\n",
      "  '  |____| .__|_| |_|_| |_\\__, | / / / /\n",
      " =========|_|==============|___/=/_/_/_/\n",
      " :: Spring Boot ::                (v3.1.5)\n",
      "\n",
      "2024-08-29T18:10:58.855+03:00  INFO 14547 --- [           main] c.e.a.AccountingDemoApplication          : Starting AccountingDemoApplication v3.0.x-SNAPSHOT using Java 17.0.10 with PID 14547 (/home/slava/projects/demo-jupyternb/res/application.jar started by slava in /home/slava/projects/demo-jupyternb/res)\n",
      "2024-08-29T18:10:58.858+03:00  INFO 14547 --- [           main] c.e.a.AccountingDemoApplication          : No active profile set, falling back to 1 default profile: \"default\"\n",
      "2024-08-29T18:10:59.999+03:00  INFO 14547 --- [           main] o.s.b.w.embedded.tomcat.TomcatWebServer  : Tomcat initialized with port(s): 8080 (http)\n",
      "2024-08-29T18:11:00.009+03:00  INFO 14547 --- [           main] o.apache.catalina.core.StandardService   : Starting service [Tomcat]\n",
      "2024-08-29T18:11:00.009+03:00  INFO 14547 --- [           main] o.apache.catalina.core.StandardEngine    : Starting Servlet engine: [Apache Tomcat/10.1.15]\n",
      "2024-08-29T18:11:00.087+03:00  INFO 14547 --- [           main] o.a.c.c.C.[Tomcat].[localhost].[/]       : Initializing Spring embedded WebApplicationContext\n",
      "2024-08-29T18:11:00.089+03:00  INFO 14547 --- [           main] w.s.c.ServletWebServerApplicationContext : Root WebApplicationContext: initialization completed in 1166 ms\n",
      "Standard Commons Logging discovery in action with spring-jcl: please remove commons-logging.jar from classpath in order to avoid potential conflicts\n",
      "2024-08-29T18:11:01.153+03:00  INFO 14547 --- [           main] c.e.a.service.Authentication             : Authentication response code: 200\n",
      "2024-08-29T18:11:01.529+03:00  INFO 14547 --- [           main] c.e.a.p.CyodaCalculationMemberClient     : gRPC client initialized successfully with server address: grpc-cyoda-demo-app.kube.cyoda.org and port: 443\n",
      "2024-08-29T18:11:01.592+03:00  INFO 14547 --- [           main] o.s.remoting.rmi.RmiServiceExporter      : Looking for RMI registry at port '1099'\n",
      "2024-08-29T18:11:01.770+03:00  INFO 14547 --- [           main] o.s.remoting.rmi.RmiServiceExporter      : Could not detect RMI registry - creating new one\n",
      "2024-08-29T18:11:01.780+03:00  INFO 14547 --- [           main] o.s.remoting.rmi.RmiServiceExporter      : Binding service 'EntityService' to RMI registry: RegistryImpl[UnicastServerRef [liveRef: [endpoint:[192.168.0.105:1099](local),objID:[0:0:0, 0]]]]\n",
      "2024-08-29T18:11:02.064+03:00  INFO 14547 --- [           main] o.s.b.w.embedded.tomcat.TomcatWebServer  : Tomcat started on port(s): 8080 (http) with context path ''\n",
      "2024-08-29T18:11:02.093+03:00  INFO 14547 --- [           main] c.e.a.p.CyodaCalculationMemberClient     : Started streaming events from gRPC server\n",
      "2024-08-29T18:11:02.220+03:00  INFO 14547 --- [           main] c.e.a.p.CyodaCalculationMemberClient     : << Sending event: success: true\n",
      "\n",
      "2024-08-29T18:11:02.228+03:00  INFO 14547 --- [           main] c.e.a.AccountingDemoApplication          : Started AccountingDemoApplication in 3.878 seconds (process running for 4.46)\n",
      "2024-08-29T18:11:02.930+03:00  INFO 14547 --- [ault-executor-0] c.e.a.p.CyodaCalculationMemberClient     : << Received event: \n",
      "{\n",
      "  \"memberId\" : \"b3807204-f11e-4405-b02e-57d03dac1c71\",\n",
      "  \"owner\" : \"PLAY\",\n",
      "  \"success\" : true,\n",
      "  \"id\" : \"45c54f5d-efb6-4c8f-8154-dd12af8e59e6\"\n",
      "}\n",
      "2024-08-29T18:11:02.930+03:00  INFO 14547 --- [ault-executor-0] c.e.a.p.CyodaCalculationMemberClient     : Unhandled event type: CalculationMemberGreetEvent\n"
     ]
    }
   ],
   "source": [
    "LogReader.printLastNLogs(35);"
   ]
  },
  {
   "cell_type": "code",
   "execution_count": 6,
   "metadata": {},
   "outputs": [],
   "source": [
    "%classpath /home/slava/projects/demo-jupyternb/res/\n",
    "\n",
    "import com.example.accounting_demo.service.EntityService;\n"
   ]
  },
  {
   "cell_type": "code",
   "execution_count": 7,
   "metadata": {},
   "outputs": [],
   "source": [
    "import java.lang.reflect.Method;\n",
    "import java.rmi.RemoteException;\n",
    "import java.rmi.registry.LocateRegistry;\n",
    "import java.rmi.registry.Registry;\n",
    "import java.lang.reflect.InvocationTargetException;\n",
    "\n",
    "\n",
    "public class EntityServiceClient {\n",
    "\n",
    "    private static EntityService getEntityService() throws Exception {\n",
    "        try {\n",
    "            Registry registry = LocateRegistry.getRegistry(\"localhost\", 1099);\n",
    "            return (EntityService) registry.lookup(\"EntityService\");\n",
    "        } catch (RemoteException e) {\n",
    "            throw new Exception(\"Failed to connect to RMI registry or lookup service\", e);\n",
    "        }\n",
    "    }\n",
    "\n",
    "    public static Object invokeMethod(String methodName, Object... args) throws Exception {\n",
    "        try {\n",
    "            EntityService service = getEntityService();\n",
    "            Class<?>[] argTypes = new Class[args.length];\n",
    "            for (int i = 0; i < args.length; i++) {\n",
    "                argTypes[i] = args[i].getClass();\n",
    "            }\n",
    "            Method method = service.getClass().getMethod(methodName, argTypes);\n",
    "            return method.invoke(service, args);\n",
    "        } catch (NoSuchMethodException e) {\n",
    "            throw new Exception(\"No such method found: \" + methodName, e);\n",
    "        } catch (IllegalAccessException e) {\n",
    "            throw new Exception(\"Illegal access to method: \" + methodName, e);\n",
    "        } catch (InvocationTargetException e) {\n",
    "            throw new Exception(\"Method invocation failed: \" + methodName, e);\n",
    "        } catch (RemoteException e) {\n",
    "            throw new Exception(\"Remote method invocation failed\", e);\n",
    "        }\n",
    "    }\n",
    "}\n",
    "\n"
   ]
  },
  {
   "cell_type": "code",
   "execution_count": 8,
   "metadata": {},
   "outputs": [
    {
     "name": "stdout",
     "output_type": "stream",
     "text": [
      "Result from EntityService: Hello from EntityService!\n"
     ]
    }
   ],
   "source": [
    "String result = (String) EntityServiceClient.invokeMethod(\"demoMethod\");\n",
    "System.out.println(\"Result from EntityService: \" + result);\n"
   ]
  },
  {
   "cell_type": "code",
   "execution_count": null,
   "metadata": {},
   "outputs": [],
   "source": []
  }
 ],
 "metadata": {
  "kernelspec": {
   "display_name": "java (IJava/j!)",
   "language": "java",
   "name": "jbang-ijava"
  },
  "language_info": {
   "codemirror_mode": "java",
   "file_extension": ".jshell",
   "mimetype": "text/x-java-source",
   "name": "Java",
   "pygments_lexer": "java",
   "version": "21.0.4+7-LTS"
  }
 },
 "nbformat": 4,
 "nbformat_minor": 4
}
