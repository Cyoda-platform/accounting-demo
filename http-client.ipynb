{
 "cells": [
  {
   "cell_type": "markdown",
   "metadata": {},
   "source": [
    "# HTTP client"
   ]
  },
  {
   "metadata": {},
   "cell_type": "code",
   "outputs": [],
   "execution_count": null,
   "source": "!pip install dicttoxml"
  },
  {
   "cell_type": "code",
   "execution_count": null,
   "metadata": {
    "ExecuteTime": {
     "end_time": "2024-09-05T23:31:06.343824Z",
     "start_time": "2024-09-05T23:31:06.334476Z"
    }
   },
   "outputs": [],
   "source": [
    "import requests\n",
    "import os\n",
    "\n",
    "class HttpClient:\n",
    "    def __init__(self, file_path='./src/main/resources/application.properties'):\n",
    "        self.session = requests.Session()\n",
    "        self.session.headers.update({\n",
    "            \"Content-Type\": \"application/json\",\n",
    "            \"X-Requested-With\": \"XMLHttpRequest\"\n",
    "        })\n",
    "\n",
    "        creds = self.read_credentials(file_path)\n",
    "        self.base_url = creds.get('cyoda.host')\n",
    "        self.username = creds.get('cyoda.name')\n",
    "        self.password = os.getenv('DEMO_USER_PASSWD', 'default_password')\n",
    "\n",
    "        self.authenticate()\n",
    "\n",
    "    @staticmethod\n",
    "    def read_credentials(file_path):\n",
    "        credentials = {}\n",
    "        try:\n",
    "            with open(file_path, 'r') as file:\n",
    "                for line in file:\n",
    "                    key, value = line.strip().split('=')\n",
    "                    credentials[key] = value\n",
    "        except FileNotFoundError:\n",
    "            raise Exception(f\"File {file_path} not found\")\n",
    "        except ValueError:\n",
    "            raise Exception(f\"Error parsing credentials in {file_path}\")\n",
    "        return credentials\n",
    "\n",
    "    def authenticate(self):\n",
    "        if not self.base_url or not self.username or not self.password:\n",
    "            raise Exception(\"Base URL, username, or password is missing\")\n",
    "\n",
    "        url = f\"{self.base_url}/auth/login\"\n",
    "        response = self.session.post(url, json={\"username\": self.username, \"password\": self.password})\n",
    "        response.raise_for_status()  # Raises an HTTPError if the HTTP request returned an unsuccessful status code\n",
    "        token = response.json().get('token')\n",
    "        if token:\n",
    "            self.session.headers.update({\"Authorization\": f\"Bearer {token}\"})\n",
    "        else:\n",
    "            raise Exception(\"Authentication failed, token not found\")\n",
    "\n",
    "    def request(self, method, endpoint, **kwargs):\n",
    "        url = f\"{self.base_url}{endpoint}\"\n",
    "\n",
    "        if 'json' in kwargs:\n",
    "            self.session.headers.update({\"Content-Type\": \"application/json\"})\n",
    "        elif 'data' in kwargs:\n",
    "            data = kwargs['data']\n",
    "            if isinstance(data, str) and data.strip().startswith('<'):\n",
    "                self.session.headers.update({\"Content-Type\": \"application/xml\"})\n",
    "            else:\n",
    "                self.session.headers.update({\"Content-Type\": \"application/x-www-form-urlencoded\"})\n",
    "        else:\n",
    "            self.session.headers.pop(\"Content-Type\", None)\n",
    "\n",
    "        try:\n",
    "            response = self.session.request(method, url, **kwargs)\n",
    "            response.raise_for_status()\n",
    "\n",
    "            if response.content.strip():\n",
    "                try:\n",
    "                    return response.json()\n",
    "                except ValueError:\n",
    "                    print(\"Response is not JSON, returning as text.\")\n",
    "                    return response.text\n",
    "            else:\n",
    "                print(\"Request was successful, but the response is empty.\")\n",
    "                return None\n",
    "        except requests.exceptions.HTTPError as http_err:\n",
    "            print(f\"HTTP error occurred: {http_err}\")\n",
    "            print(f\"Response content: {response.text}\")\n",
    "        except ValueError as json_err:\n",
    "            print(f\"JSON parsing error occurred: {json_err}\")\n",
    "            print(f\"Response content: {response.text}\")\n",
    "            return None\n",
    "        except Exception as err:\n",
    "            print(f\"Other error occurred: {err}\")"
   ]
  },
  {
   "cell_type": "code",
   "execution_count": null,
   "metadata": {
    "ExecuteTime": {
     "end_time": "2024-09-05T23:31:08.368978Z",
     "start_time": "2024-09-05T23:31:07.769748Z"
    }
   },
   "outputs": [],
   "source": [
    "client = HttpClient()\n",
    "print(\"Client initialized and authenticated.\")\n"
   ]
  },
  {
   "cell_type": "code",
   "execution_count": null,
   "metadata": {
    "ExecuteTime": {
     "end_time": "2024-09-05T23:31:13.200282Z",
     "start_time": "2024-09-05T23:31:13.190215Z"
    }
   },
   "outputs": [],
   "source": [
    "# PROVIDE DATA\n",
    "import json\n",
    "import dicttoxml\n",
    "import os\n",
    "\n",
    "entityName = \"expense_report\"\n",
    "modelVersion = \"1\"\n",
    "entityType = \"TREE\" # or \"TABLE\"\n",
    "format = \"JSON\" # or \"XML\"\n",
    "entityClassName = \"com.cyoda.tdb.model.treenode.TreeNodeEntity\"\n",
    "\n",
    "json_file_path = os.path.join(os.getcwd(), 'sample_data.json')\n",
    "xml_file_path = os.path.join(os.getcwd(), 'sample_data.xml')\n",
    "\n",
    "new_data = None\n",
    "\n",
    "if format == \"JSON\":\n",
    "    try:\n",
    "        with open(json_file_path, 'r') as json_file:\n",
    "            new_data = json.load(json_file)\n",
    "            print(\"Loaded JSON data:\", new_data)\n",
    "    except FileNotFoundError:\n",
    "        print(f\"File {json_file_path} not found.\")\n",
    "    except json.JSONDecodeError:\n",
    "        print(\"Error decoding JSON from the file.\")\n",
    "\n",
    "elif format == \"XML\":\n",
    "    try:\n",
    "        with open(xml_file_path, 'r') as xml_file:\n",
    "            new_data = xml_file.read()\n",
    "            print(\"Loaded XML data as string:\", new_data)\n",
    "    except FileNotFoundError:\n",
    "        print(f\"File {xml_file_path} not found.\")\n",
    "    except Exception as e:\n",
    "        print(\"Error reading XML from the file:\", e)\n",
    "\n",
    "else:\n",
    "    print(\"Unsupported format. Please use 'JSON' or 'XML'.\")"
   ]
  },
  {
   "cell_type": "markdown",
   "metadata": {},
   "source": [
    "# ModelController"
   ]
  },
  {
   "cell_type": "code",
   "execution_count": null,
   "metadata": {
    "ExecuteTime": {
     "end_time": "2024-09-05T23:32:45.833897Z",
     "start_time": "2024-09-05T23:32:44.513054Z"
    }
   },
   "outputs": [],
   "source": [
    "# SAVE MODEL\n",
    "converter = \"SAMPLE_DATA\"\n",
    "url = f\"/treeNode/model/import/{format}/{converter}/{entityName}/{modelVersion}\"\n",
    "\n",
    "if format.upper() == \"JSON\":\n",
    "    response = client.request(\"POST\", url, json=new_data)\n",
    "elif format.upper() == \"XML\":\n",
    "    xml_data = dicttoxml.dicttoxml(new_data, custom_root='root', attr_type=False).decode()\n",
    "    response = client.request(\"POST\", url, data=xml_data)\n",
    "else:\n",
    "    print(\"Unsupported format. Please use 'JSON' or 'XML'.\")\n",
    "    response = None\n",
    "\n",
    "if response:\n",
    "    print(\"Response:\", response)"
   ]
  },
  {
   "cell_type": "code",
   "execution_count": null,
   "metadata": {
    "ExecuteTime": {
     "end_time": "2024-09-05T23:32:56.689151Z",
     "start_time": "2024-09-05T23:32:56.588820Z"
    }
   },
   "outputs": [],
   "source": [
    "# GET MODEL\n",
    "converter = \"JSON_SCHEMA\"\n",
    "#converter = \"SIMPLE_VIEW\"\n",
    "url = f\"/treeNode/model/export/{converter}/{entityName}/{modelVersion}\"\n",
    "\n",
    "response = client.request(\"GET\", url)\n",
    "print(\"Response:\", response)"
   ]
  },
  {
   "cell_type": "code",
   "execution_count": null,
   "metadata": {
    "ExecuteTime": {
     "end_time": "2024-09-05T23:32:50.409379Z",
     "start_time": "2024-09-05T23:32:49.098622Z"
    },
    "vscode": {
     "languageId": "java"
    }
   },
   "outputs": [],
   "source": [
    "# LOCK MODEL\n",
    "url = f\"/treeNode/model/{entityName}/{modelVersion}/lock\"\n",
    "\n",
    "response = client.request(\"PUT\", url)\n",
    "print(\"Response:\", response)"
   ]
  },
  {
   "cell_type": "code",
   "execution_count": null,
   "metadata": {
    "ExecuteTime": {
     "end_time": "2024-09-05T22:44:29.147259Z",
     "start_time": "2024-09-05T22:44:27.844003Z"
    },
    "scrolled": true
   },
   "outputs": [],
   "source": [
    "# UNLOCK MODEL\n",
    "url = f\"/treeNode/model/{entityName}/{modelVersion}/unlock\"\n",
    "\n",
    "response = client.request(\"PUT\", url)\n",
    "print(\"Response:\", response)"
   ]
  },
  {
   "cell_type": "code",
   "execution_count": null,
   "metadata": {
    "ExecuteTime": {
     "end_time": "2024-09-05T23:32:12.790899Z",
     "start_time": "2024-09-05T23:32:12.486535Z"
    }
   },
   "outputs": [],
   "source": [
    "# GET ALL MODELS\n",
    "url = f\"/treeNode/model/\"\n",
    "\n",
    "response = client.request(\"GET\", url)\n",
    "print(\"Response:\", response)"
   ]
  },
  {
   "cell_type": "code",
   "execution_count": null,
   "metadata": {
    "ExecuteTime": {
     "end_time": "2024-09-05T23:32:40.905475Z",
     "start_time": "2024-09-05T23:32:40.430566Z"
    }
   },
   "outputs": [],
   "source": [
    "# DELETE MODEL\n",
    "url = f\"/treeNode/model/{entityName}/{modelVersion}\"\n",
    "\n",
    "response = client.request(\"DELETE\", url)\n",
    "print(\"Response:\", response)"
   ]
  },
  {
   "cell_type": "markdown",
   "metadata": {},
   "source": [
    "# EntityController"
   ]
  },
  {
   "cell_type": "code",
   "execution_count": null,
   "metadata": {
    "ExecuteTime": {
     "end_time": "2024-09-05T23:33:02.991935Z",
     "start_time": "2024-09-05T23:33:02.291503Z"
    }
   },
   "outputs": [],
   "source": [
    "# SAVE A SINGLE ENTITY OR A COLLECTION OF ENTITIES OF THE SAME TYPE\n",
    "url = f\"/entity/{format}/{entityType}/{entityName}/{modelVersion}\"\n",
    "\n",
    "if format.upper() == \"JSON\":\n",
    "    response = client.request(\"POST\", url, json=new_data)\n",
    "elif format.upper() == \"XML\":\n",
    "    xml_data = dicttoxml.dicttoxml(new_data, custom_root='root', attr_type=False).decode()\n",
    "    response = client.request(\"POST\", url, data=xml_data)\n",
    "else:\n",
    "    print(\"Unsupported format. Please use 'JSON' or 'XML'.\")\n",
    "    response = None\n",
    "\n",
    "if response:\n",
    "    print(\"Response:\", response)"
   ]
  },
  {
   "cell_type": "code",
   "execution_count": null,
   "metadata": {},
   "outputs": [],
   "source": [
    "# SAVE A COLLECTION OF ENTITIES. Each entity can be from a different model and version\n",
    "#url = f\"/entity/{format}/{entityType}\"\n",
    "\n",
    "#if format.upper() == \"JSON\":\n",
    "#    response = client.request(\"POST\", url, json=new_data)\n",
    "#elif format.upper() == \"XML\":\n",
    "#    xml_data = dicttoxml.dicttoxml(new_data, custom_root='root', attr_type=False).decode()\n",
    "#    response = client.request(\"POST\", url, data=xml_data)\n",
    "#else:\n",
    "#    print(\"Unsupported format. Please use 'JSON' or 'XML'.\")\n",
    "#    response = None\n",
    "\n",
    "#if response:\n",
    "#    print(\"Response:\", response)"
   ]
  },
  {
   "cell_type": "code",
   "execution_count": null,
   "metadata": {
    "ExecuteTime": {
     "end_time": "2024-09-05T23:33:11.247123Z",
     "start_time": "2024-09-05T23:33:09.949080Z"
    }
   },
   "outputs": [],
   "source": [
    "# GET ALL ENTITIES\n",
    "url = f\"/entity/{entityType}/{entityName}/{modelVersion}\"\n",
    "\n",
    "response = client.request(\"GET\", url)\n",
    "print(\"Response:\", response)"
   ]
  },
  {
   "cell_type": "code",
   "execution_count": null,
   "metadata": {
    "ExecuteTime": {
     "end_time": "2024-09-05T23:33:13.676158Z",
     "start_time": "2024-09-05T23:33:13.669382Z"
    }
   },
   "outputs": [],
   "source": [
    "# GET ID OF THE FIRST ELEMENT (FROM RESPONSE OF # GET ALL ENTITIES)\n",
    "if response and isinstance(response, list) and 'id' in response[0]:\n",
    "    entityId = response[0]['id']\n",
    "    print(\"ID of the first element:\", entityId)\n",
    "else:\n",
    "    print(\"Response does not contain the expected data.\")"
   ]
  },
  {
   "cell_type": "code",
   "execution_count": null,
   "metadata": {
    "ExecuteTime": {
     "end_time": "2024-09-05T23:33:35.007050Z",
     "start_time": "2024-09-05T23:33:34.894575Z"
    }
   },
   "outputs": [],
   "source": [
    "# GET ENTITY\n",
    "url = f\"/entity/{entityType}/{entityId}\"\n",
    "\n",
    "response = client.request(\"GET\", url)\n",
    "print(\"Response:\", response)"
   ]
  },
  {
   "cell_type": "code",
   "execution_count": null,
   "metadata": {
    "ExecuteTime": {
     "end_time": "2024-09-05T21:27:34.118165Z",
     "start_time": "2024-09-05T21:27:23.955485Z"
    }
   },
   "outputs": [],
   "source": [
    "# UPDATE ENTITY\n",
    "transition = \"UPDATE\"\n",
    "url = f\"/entity/{format}/{entityType}/{entityId}/{transition}\"\n",
    "\n",
    "response = client.request(\"PUT\", url, json=new_data)\n",
    "print(\"Response:\", response)"
   ]
  },
  {
   "cell_type": "code",
   "execution_count": null,
   "metadata": {
    "ExecuteTime": {
     "end_time": "2024-09-05T23:33:22.551917Z",
     "start_time": "2024-09-05T23:33:22.444026Z"
    }
   },
   "outputs": [],
   "source": [
    "# GET CURRENT STATE OF AN ENTITY\n",
    "url = f\"/platform-api/entity-info/fetch/lazy?entityClass={entityClassName}&entityId={entityId}&columnPath=state\"\n",
    "\n",
    "response = client.request(\"GET\", url)\n",
    "if response and isinstance(response, list) and 'value' in response[0]:\n",
    "    value = response[0]['value']\n",
    "    print(\"State: \", value)\n",
    "else:\n",
    "    print(\"Response does not contain the expected 'value'.\")"
   ]
  },
  {
   "cell_type": "code",
   "execution_count": null,
   "metadata": {
    "ExecuteTime": {
     "end_time": "2024-09-05T23:33:23.814475Z",
     "start_time": "2024-09-05T23:33:23.712339Z"
    }
   },
   "outputs": [],
   "source": [
    "# GET AVAILABLE TRANSITIONS\n",
    "url = f\"/platform-api/entity/fetch/transitions?entityId={entityId}&entityClass={entityClassName}\"\n",
    "\n",
    "response = client.request(\"GET\", url)\n",
    "print(\"Response:\", response)"
   ]
  },
  {
   "cell_type": "code",
   "execution_count": null,
   "metadata": {
    "ExecuteTime": {
     "end_time": "2024-09-05T23:33:27.598816Z",
     "start_time": "2024-09-05T23:33:27.422673Z"
    }
   },
   "outputs": [],
   "source": [
    "# LAUNCH TRANSITION\n",
    "transitionName = \"SUBMIT\"\n",
    "url = f\"/platform-api/entity/transition?entityId={entityId}&entityClass={entityClassName}&transitionName={transitionName}\"\n",
    "\n",
    "response = client.request(\"PUT\", url)\n",
    "print(\"Response:\", response)"
   ]
  },
  {
   "cell_type": "code",
   "execution_count": null,
   "metadata": {
    "ExecuteTime": {
     "end_time": "2024-09-05T22:45:34.616371Z",
     "start_time": "2024-09-05T22:45:34.424590Z"
    },
    "scrolled": true
   },
   "outputs": [],
   "source": [
    "# DELETE A SINGLE ENTITY BY ID\n",
    "url = f\"/entity/{entityType}/{entityId}\"\n",
    "\n",
    "response = client.request(\"DELETE\", url)\n",
    "print(\"Response:\", response)"
   ]
  },
  {
   "cell_type": "code",
   "execution_count": null,
   "metadata": {
    "ExecuteTime": {
     "end_time": "2024-09-05T23:32:30.977886Z",
     "start_time": "2024-09-05T23:32:30.383081Z"
    }
   },
   "outputs": [],
   "source": [
    "# DELETE ALL ENTITIES FOR A GIVEN MODEL NAME AND VERSION\n",
    "url = f\"/entity/{entityType}/{entityName}/{modelVersion}\"\n",
    "\n",
    "response = client.request(\"DELETE\", url)\n",
    "print(\"Response:\", response)"
   ]
  },
  {
   "cell_type": "code",
   "execution_count": null,
   "metadata": {
    "jupyter": {
     "source_hidden": true
    }
   },
   "outputs": [],
   "source": []
  }
 ],
 "metadata": {
  "kernelspec": {
   "display_name": "Python 3 (ipykernel)",
   "language": "python",
   "name": "python3"
  },
  "language_info": {
   "codemirror_mode": {
    "name": "ipython",
    "version": 3
   },
   "file_extension": ".py",
   "mimetype": "text/x-python",
   "name": "python",
   "nbconvert_exporter": "python",
   "pygments_lexer": "ipython3",
   "version": "3.10.12"
  }
 },
 "nbformat": 4,
 "nbformat_minor": 4
}
